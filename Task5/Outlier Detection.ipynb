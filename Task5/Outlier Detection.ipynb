{
 "cells": [
  {
   "cell_type": "markdown",
   "metadata": {},
   "source": [
    "Dal dataset originale identifica i top 1% degli outliers\n",
    "Adotta almeno tre diversi metodi appartenenti a famiglie diverse (ad esempio statistical/depth based, distance-based,\n",
    "density-based, angle-based, ...) e compara i risultati"
   ]
  },
  {
   "cell_type": "code",
   "execution_count": 1,
   "metadata": {},
   "outputs": [],
   "source": [
    "import numpy as np\n",
    "import pandas as pd\n",
    "import matplotlib as mpl\n",
    "import matplotlib.pyplot as plt\n",
    "import datetime as datet\n",
    "from datetime import datetime\n",
    "import seaborn as sns\n",
    "import matplotlib.dates as mdates\n",
    "from sklearn.preprocessing import scale\n",
    "from sklearn.preprocessing import MinMaxScaler\n",
    "import seaborn as sn\n",
    "\n",
    "from scipy import stats\n",
    "from scipy.stats import zscore"
   ]
  },
  {
   "cell_type": "markdown",
   "metadata": {},
   "source": [
    "## Acquisizione del dataset"
   ]
  },
  {
   "cell_type": "code",
   "execution_count": 2,
   "metadata": {},
   "outputs": [],
   "source": [
    "# Dataset con attributi originali\n",
    "df3 = pd.read_csv(\"../datatraining.txt\")\n",
    "df1 = pd.read_csv(\"../datatest.txt\")\n",
    "df2 = pd.read_csv(\"../datatest2.txt\")"
   ]
  },
  {
   "cell_type": "code",
   "execution_count": 3,
   "metadata": {
    "scrolled": true
   },
   "outputs": [
    {
     "data": {
      "text/html": [
       "<div>\n",
       "<style scoped>\n",
       "    .dataframe tbody tr th:only-of-type {\n",
       "        vertical-align: middle;\n",
       "    }\n",
       "\n",
       "    .dataframe tbody tr th {\n",
       "        vertical-align: top;\n",
       "    }\n",
       "\n",
       "    .dataframe thead th {\n",
       "        text-align: right;\n",
       "    }\n",
       "</style>\n",
       "<table border=\"1\" class=\"dataframe\">\n",
       "  <thead>\n",
       "    <tr style=\"text-align: right;\">\n",
       "      <th></th>\n",
       "      <th>Temperature</th>\n",
       "      <th>Humidity</th>\n",
       "      <th>Light</th>\n",
       "      <th>CO2</th>\n",
       "      <th>HumidityRatio</th>\n",
       "      <th>Occupancy</th>\n",
       "    </tr>\n",
       "  </thead>\n",
       "  <tbody>\n",
       "    <tr>\n",
       "      <td>count</td>\n",
       "      <td>8143.000000</td>\n",
       "      <td>8143.000000</td>\n",
       "      <td>8143.000000</td>\n",
       "      <td>8143.000000</td>\n",
       "      <td>8143.000000</td>\n",
       "      <td>8143.000000</td>\n",
       "    </tr>\n",
       "    <tr>\n",
       "      <td>mean</td>\n",
       "      <td>20.619084</td>\n",
       "      <td>25.731507</td>\n",
       "      <td>119.519375</td>\n",
       "      <td>606.546243</td>\n",
       "      <td>0.003863</td>\n",
       "      <td>0.212330</td>\n",
       "    </tr>\n",
       "    <tr>\n",
       "      <td>std</td>\n",
       "      <td>1.016916</td>\n",
       "      <td>5.531211</td>\n",
       "      <td>194.755805</td>\n",
       "      <td>314.320877</td>\n",
       "      <td>0.000852</td>\n",
       "      <td>0.408982</td>\n",
       "    </tr>\n",
       "    <tr>\n",
       "      <td>min</td>\n",
       "      <td>19.000000</td>\n",
       "      <td>16.745000</td>\n",
       "      <td>0.000000</td>\n",
       "      <td>412.750000</td>\n",
       "      <td>0.002674</td>\n",
       "      <td>0.000000</td>\n",
       "    </tr>\n",
       "    <tr>\n",
       "      <td>25%</td>\n",
       "      <td>19.700000</td>\n",
       "      <td>20.200000</td>\n",
       "      <td>0.000000</td>\n",
       "      <td>439.000000</td>\n",
       "      <td>0.003078</td>\n",
       "      <td>0.000000</td>\n",
       "    </tr>\n",
       "    <tr>\n",
       "      <td>50%</td>\n",
       "      <td>20.390000</td>\n",
       "      <td>26.222500</td>\n",
       "      <td>0.000000</td>\n",
       "      <td>453.500000</td>\n",
       "      <td>0.003801</td>\n",
       "      <td>0.000000</td>\n",
       "    </tr>\n",
       "    <tr>\n",
       "      <td>75%</td>\n",
       "      <td>21.390000</td>\n",
       "      <td>30.533333</td>\n",
       "      <td>256.375000</td>\n",
       "      <td>638.833333</td>\n",
       "      <td>0.004352</td>\n",
       "      <td>0.000000</td>\n",
       "    </tr>\n",
       "    <tr>\n",
       "      <td>max</td>\n",
       "      <td>23.180000</td>\n",
       "      <td>39.117500</td>\n",
       "      <td>1546.333333</td>\n",
       "      <td>2028.500000</td>\n",
       "      <td>0.006476</td>\n",
       "      <td>1.000000</td>\n",
       "    </tr>\n",
       "  </tbody>\n",
       "</table>\n",
       "</div>"
      ],
      "text/plain": [
       "       Temperature     Humidity        Light          CO2  HumidityRatio  \\\n",
       "count  8143.000000  8143.000000  8143.000000  8143.000000    8143.000000   \n",
       "mean     20.619084    25.731507   119.519375   606.546243       0.003863   \n",
       "std       1.016916     5.531211   194.755805   314.320877       0.000852   \n",
       "min      19.000000    16.745000     0.000000   412.750000       0.002674   \n",
       "25%      19.700000    20.200000     0.000000   439.000000       0.003078   \n",
       "50%      20.390000    26.222500     0.000000   453.500000       0.003801   \n",
       "75%      21.390000    30.533333   256.375000   638.833333       0.004352   \n",
       "max      23.180000    39.117500  1546.333333  2028.500000       0.006476   \n",
       "\n",
       "         Occupancy  \n",
       "count  8143.000000  \n",
       "mean      0.212330  \n",
       "std       0.408982  \n",
       "min       0.000000  \n",
       "25%       0.000000  \n",
       "50%       0.000000  \n",
       "75%       0.000000  \n",
       "max       1.000000  "
      ]
     },
     "execution_count": 3,
     "metadata": {},
     "output_type": "execute_result"
    }
   ],
   "source": [
    "df3.describe()"
   ]
  },
  {
   "cell_type": "code",
   "execution_count": 4,
   "metadata": {},
   "outputs": [
    {
     "data": {
      "text/html": [
       "<div>\n",
       "<style scoped>\n",
       "    .dataframe tbody tr th:only-of-type {\n",
       "        vertical-align: middle;\n",
       "    }\n",
       "\n",
       "    .dataframe tbody tr th {\n",
       "        vertical-align: top;\n",
       "    }\n",
       "\n",
       "    .dataframe thead th {\n",
       "        text-align: right;\n",
       "    }\n",
       "</style>\n",
       "<table border=\"1\" class=\"dataframe\">\n",
       "  <thead>\n",
       "    <tr style=\"text-align: right;\">\n",
       "      <th></th>\n",
       "      <th>date</th>\n",
       "      <th>Temperature</th>\n",
       "      <th>Humidity</th>\n",
       "      <th>Light</th>\n",
       "      <th>CO2</th>\n",
       "      <th>HumidityRatio</th>\n",
       "      <th>Occupancy</th>\n",
       "    </tr>\n",
       "  </thead>\n",
       "  <tbody>\n",
       "    <tr>\n",
       "      <td>140</td>\n",
       "      <td>2015-02-02 14:19:00</td>\n",
       "      <td>23.7000</td>\n",
       "      <td>26.272</td>\n",
       "      <td>585.200000</td>\n",
       "      <td>749.200000</td>\n",
       "      <td>0.004764</td>\n",
       "      <td>1</td>\n",
       "    </tr>\n",
       "    <tr>\n",
       "      <td>141</td>\n",
       "      <td>2015-02-02 14:19:59</td>\n",
       "      <td>23.7180</td>\n",
       "      <td>26.290</td>\n",
       "      <td>578.400000</td>\n",
       "      <td>760.400000</td>\n",
       "      <td>0.004773</td>\n",
       "      <td>1</td>\n",
       "    </tr>\n",
       "    <tr>\n",
       "      <td>142</td>\n",
       "      <td>2015-02-02 14:21:00</td>\n",
       "      <td>23.7300</td>\n",
       "      <td>26.230</td>\n",
       "      <td>572.666667</td>\n",
       "      <td>769.666667</td>\n",
       "      <td>0.004765</td>\n",
       "      <td>1</td>\n",
       "    </tr>\n",
       "    <tr>\n",
       "      <td>143</td>\n",
       "      <td>2015-02-02 14:22:00</td>\n",
       "      <td>23.7225</td>\n",
       "      <td>26.125</td>\n",
       "      <td>493.750000</td>\n",
       "      <td>774.750000</td>\n",
       "      <td>0.004744</td>\n",
       "      <td>1</td>\n",
       "    </tr>\n",
       "    <tr>\n",
       "      <td>144</td>\n",
       "      <td>2015-02-02 14:23:00</td>\n",
       "      <td>23.7540</td>\n",
       "      <td>26.200</td>\n",
       "      <td>488.600000</td>\n",
       "      <td>779.000000</td>\n",
       "      <td>0.004767</td>\n",
       "      <td>1</td>\n",
       "    </tr>\n",
       "  </tbody>\n",
       "</table>\n",
       "</div>"
      ],
      "text/plain": [
       "                    date  Temperature  Humidity       Light         CO2  \\\n",
       "140  2015-02-02 14:19:00      23.7000    26.272  585.200000  749.200000   \n",
       "141  2015-02-02 14:19:59      23.7180    26.290  578.400000  760.400000   \n",
       "142  2015-02-02 14:21:00      23.7300    26.230  572.666667  769.666667   \n",
       "143  2015-02-02 14:22:00      23.7225    26.125  493.750000  774.750000   \n",
       "144  2015-02-02 14:23:00      23.7540    26.200  488.600000  779.000000   \n",
       "\n",
       "     HumidityRatio  Occupancy  \n",
       "140       0.004764          1  \n",
       "141       0.004773          1  \n",
       "142       0.004765          1  \n",
       "143       0.004744          1  \n",
       "144       0.004767          1  "
      ]
     },
     "execution_count": 4,
     "metadata": {},
     "output_type": "execute_result"
    }
   ],
   "source": [
    "df1.head()"
   ]
  },
  {
   "cell_type": "code",
   "execution_count": 5,
   "metadata": {},
   "outputs": [
    {
     "data": {
      "text/html": [
       "<div>\n",
       "<style scoped>\n",
       "    .dataframe tbody tr th:only-of-type {\n",
       "        vertical-align: middle;\n",
       "    }\n",
       "\n",
       "    .dataframe tbody tr th {\n",
       "        vertical-align: top;\n",
       "    }\n",
       "\n",
       "    .dataframe thead th {\n",
       "        text-align: right;\n",
       "    }\n",
       "</style>\n",
       "<table border=\"1\" class=\"dataframe\">\n",
       "  <thead>\n",
       "    <tr style=\"text-align: right;\">\n",
       "      <th></th>\n",
       "      <th>date</th>\n",
       "      <th>Temperature</th>\n",
       "      <th>Humidity</th>\n",
       "      <th>Light</th>\n",
       "      <th>CO2</th>\n",
       "      <th>HumidityRatio</th>\n",
       "      <th>Occupancy</th>\n",
       "    </tr>\n",
       "  </thead>\n",
       "  <tbody>\n",
       "    <tr>\n",
       "      <td>1</td>\n",
       "      <td>2015-02-11 14:48:00</td>\n",
       "      <td>21.7600</td>\n",
       "      <td>31.133333</td>\n",
       "      <td>437.333333</td>\n",
       "      <td>1029.666667</td>\n",
       "      <td>0.005021</td>\n",
       "      <td>1</td>\n",
       "    </tr>\n",
       "    <tr>\n",
       "      <td>2</td>\n",
       "      <td>2015-02-11 14:49:00</td>\n",
       "      <td>21.7900</td>\n",
       "      <td>31.000000</td>\n",
       "      <td>437.333333</td>\n",
       "      <td>1000.000000</td>\n",
       "      <td>0.005009</td>\n",
       "      <td>1</td>\n",
       "    </tr>\n",
       "    <tr>\n",
       "      <td>3</td>\n",
       "      <td>2015-02-11 14:50:00</td>\n",
       "      <td>21.7675</td>\n",
       "      <td>31.122500</td>\n",
       "      <td>434.000000</td>\n",
       "      <td>1003.750000</td>\n",
       "      <td>0.005022</td>\n",
       "      <td>1</td>\n",
       "    </tr>\n",
       "    <tr>\n",
       "      <td>4</td>\n",
       "      <td>2015-02-11 14:51:00</td>\n",
       "      <td>21.7675</td>\n",
       "      <td>31.122500</td>\n",
       "      <td>439.000000</td>\n",
       "      <td>1009.500000</td>\n",
       "      <td>0.005022</td>\n",
       "      <td>1</td>\n",
       "    </tr>\n",
       "    <tr>\n",
       "      <td>5</td>\n",
       "      <td>2015-02-11 14:51:59</td>\n",
       "      <td>21.7900</td>\n",
       "      <td>31.133333</td>\n",
       "      <td>437.333333</td>\n",
       "      <td>1005.666667</td>\n",
       "      <td>0.005030</td>\n",
       "      <td>1</td>\n",
       "    </tr>\n",
       "  </tbody>\n",
       "</table>\n",
       "</div>"
      ],
      "text/plain": [
       "                  date  Temperature   Humidity       Light          CO2  \\\n",
       "1  2015-02-11 14:48:00      21.7600  31.133333  437.333333  1029.666667   \n",
       "2  2015-02-11 14:49:00      21.7900  31.000000  437.333333  1000.000000   \n",
       "3  2015-02-11 14:50:00      21.7675  31.122500  434.000000  1003.750000   \n",
       "4  2015-02-11 14:51:00      21.7675  31.122500  439.000000  1009.500000   \n",
       "5  2015-02-11 14:51:59      21.7900  31.133333  437.333333  1005.666667   \n",
       "\n",
       "   HumidityRatio  Occupancy  \n",
       "1       0.005021          1  \n",
       "2       0.005009          1  \n",
       "3       0.005022          1  \n",
       "4       0.005022          1  \n",
       "5       0.005030          1  "
      ]
     },
     "execution_count": 5,
     "metadata": {},
     "output_type": "execute_result"
    }
   ],
   "source": [
    "df2.head()"
   ]
  },
  {
   "cell_type": "code",
   "execution_count": 6,
   "metadata": {},
   "outputs": [
    {
     "data": {
      "text/plain": [
       "date             0\n",
       "Temperature      0\n",
       "Humidity         0\n",
       "Light            0\n",
       "CO2              0\n",
       "HumidityRatio    0\n",
       "Occupancy        0\n",
       "dtype: int64"
      ]
     },
     "execution_count": 6,
     "metadata": {},
     "output_type": "execute_result"
    }
   ],
   "source": [
    "df3.isnull().sum()"
   ]
  },
  {
   "cell_type": "code",
   "execution_count": 7,
   "metadata": {},
   "outputs": [],
   "source": [
    "frames = [df1, df3, df2]\n",
    "df = pd.concat(frames, ignore_index=True)\n",
    "#Dataset copia per avere la data\n",
    "date_df = pd.concat(frames, ignore_index=True)"
   ]
  },
  {
   "cell_type": "code",
   "execution_count": 8,
   "metadata": {},
   "outputs": [
    {
     "data": {
      "text/html": [
       "<div>\n",
       "<style scoped>\n",
       "    .dataframe tbody tr th:only-of-type {\n",
       "        vertical-align: middle;\n",
       "    }\n",
       "\n",
       "    .dataframe tbody tr th {\n",
       "        vertical-align: top;\n",
       "    }\n",
       "\n",
       "    .dataframe thead th {\n",
       "        text-align: right;\n",
       "    }\n",
       "</style>\n",
       "<table border=\"1\" class=\"dataframe\">\n",
       "  <thead>\n",
       "    <tr style=\"text-align: right;\">\n",
       "      <th></th>\n",
       "      <th>Temperature</th>\n",
       "      <th>Humidity</th>\n",
       "      <th>Light</th>\n",
       "      <th>CO2</th>\n",
       "      <th>HumidityRatio</th>\n",
       "      <th>Occupancy</th>\n",
       "    </tr>\n",
       "  </thead>\n",
       "  <tbody>\n",
       "    <tr>\n",
       "      <td>count</td>\n",
       "      <td>20560.000000</td>\n",
       "      <td>20560.000000</td>\n",
       "      <td>20560.000000</td>\n",
       "      <td>20560.000000</td>\n",
       "      <td>20560.000000</td>\n",
       "      <td>20560.000000</td>\n",
       "    </tr>\n",
       "    <tr>\n",
       "      <td>mean</td>\n",
       "      <td>20.906212</td>\n",
       "      <td>27.655925</td>\n",
       "      <td>130.756622</td>\n",
       "      <td>690.553276</td>\n",
       "      <td>0.004228</td>\n",
       "      <td>0.231031</td>\n",
       "    </tr>\n",
       "    <tr>\n",
       "      <td>std</td>\n",
       "      <td>1.055315</td>\n",
       "      <td>4.982154</td>\n",
       "      <td>210.430875</td>\n",
       "      <td>311.201281</td>\n",
       "      <td>0.000768</td>\n",
       "      <td>0.421503</td>\n",
       "    </tr>\n",
       "    <tr>\n",
       "      <td>min</td>\n",
       "      <td>19.000000</td>\n",
       "      <td>16.745000</td>\n",
       "      <td>0.000000</td>\n",
       "      <td>412.750000</td>\n",
       "      <td>0.002674</td>\n",
       "      <td>0.000000</td>\n",
       "    </tr>\n",
       "    <tr>\n",
       "      <td>25%</td>\n",
       "      <td>20.200000</td>\n",
       "      <td>24.500000</td>\n",
       "      <td>0.000000</td>\n",
       "      <td>460.000000</td>\n",
       "      <td>0.003719</td>\n",
       "      <td>0.000000</td>\n",
       "    </tr>\n",
       "    <tr>\n",
       "      <td>50%</td>\n",
       "      <td>20.700000</td>\n",
       "      <td>27.290000</td>\n",
       "      <td>0.000000</td>\n",
       "      <td>565.416667</td>\n",
       "      <td>0.004292</td>\n",
       "      <td>0.000000</td>\n",
       "    </tr>\n",
       "    <tr>\n",
       "      <td>75%</td>\n",
       "      <td>21.525000</td>\n",
       "      <td>31.290000</td>\n",
       "      <td>301.000000</td>\n",
       "      <td>804.666667</td>\n",
       "      <td>0.004832</td>\n",
       "      <td>0.000000</td>\n",
       "    </tr>\n",
       "    <tr>\n",
       "      <td>max</td>\n",
       "      <td>24.408333</td>\n",
       "      <td>39.500000</td>\n",
       "      <td>1697.250000</td>\n",
       "      <td>2076.500000</td>\n",
       "      <td>0.006476</td>\n",
       "      <td>1.000000</td>\n",
       "    </tr>\n",
       "  </tbody>\n",
       "</table>\n",
       "</div>"
      ],
      "text/plain": [
       "        Temperature      Humidity         Light           CO2  HumidityRatio  \\\n",
       "count  20560.000000  20560.000000  20560.000000  20560.000000   20560.000000   \n",
       "mean      20.906212     27.655925    130.756622    690.553276       0.004228   \n",
       "std        1.055315      4.982154    210.430875    311.201281       0.000768   \n",
       "min       19.000000     16.745000      0.000000    412.750000       0.002674   \n",
       "25%       20.200000     24.500000      0.000000    460.000000       0.003719   \n",
       "50%       20.700000     27.290000      0.000000    565.416667       0.004292   \n",
       "75%       21.525000     31.290000    301.000000    804.666667       0.004832   \n",
       "max       24.408333     39.500000   1697.250000   2076.500000       0.006476   \n",
       "\n",
       "          Occupancy  \n",
       "count  20560.000000  \n",
       "mean       0.231031  \n",
       "std        0.421503  \n",
       "min        0.000000  \n",
       "25%        0.000000  \n",
       "50%        0.000000  \n",
       "75%        0.000000  \n",
       "max        1.000000  "
      ]
     },
     "execution_count": 8,
     "metadata": {},
     "output_type": "execute_result"
    }
   ],
   "source": [
    "df.describe()"
   ]
  },
  {
   "cell_type": "code",
   "execution_count": 9,
   "metadata": {},
   "outputs": [
    {
     "data": {
      "text/html": [
       "<div>\n",
       "<style scoped>\n",
       "    .dataframe tbody tr th:only-of-type {\n",
       "        vertical-align: middle;\n",
       "    }\n",
       "\n",
       "    .dataframe tbody tr th {\n",
       "        vertical-align: top;\n",
       "    }\n",
       "\n",
       "    .dataframe thead th {\n",
       "        text-align: right;\n",
       "    }\n",
       "</style>\n",
       "<table border=\"1\" class=\"dataframe\">\n",
       "  <thead>\n",
       "    <tr style=\"text-align: right;\">\n",
       "      <th></th>\n",
       "      <th>date</th>\n",
       "      <th>Temperature</th>\n",
       "      <th>Humidity</th>\n",
       "      <th>Light</th>\n",
       "      <th>CO2</th>\n",
       "      <th>HumidityRatio</th>\n",
       "      <th>Occupancy</th>\n",
       "    </tr>\n",
       "  </thead>\n",
       "  <tbody>\n",
       "    <tr>\n",
       "      <td>0</td>\n",
       "      <td>2015-02-02 14:19:00</td>\n",
       "      <td>23.7000</td>\n",
       "      <td>26.2720</td>\n",
       "      <td>585.200000</td>\n",
       "      <td>749.200000</td>\n",
       "      <td>0.004764</td>\n",
       "      <td>1</td>\n",
       "    </tr>\n",
       "    <tr>\n",
       "      <td>1</td>\n",
       "      <td>2015-02-02 14:19:59</td>\n",
       "      <td>23.7180</td>\n",
       "      <td>26.2900</td>\n",
       "      <td>578.400000</td>\n",
       "      <td>760.400000</td>\n",
       "      <td>0.004773</td>\n",
       "      <td>1</td>\n",
       "    </tr>\n",
       "    <tr>\n",
       "      <td>2</td>\n",
       "      <td>2015-02-02 14:21:00</td>\n",
       "      <td>23.7300</td>\n",
       "      <td>26.2300</td>\n",
       "      <td>572.666667</td>\n",
       "      <td>769.666667</td>\n",
       "      <td>0.004765</td>\n",
       "      <td>1</td>\n",
       "    </tr>\n",
       "    <tr>\n",
       "      <td>3</td>\n",
       "      <td>2015-02-02 14:22:00</td>\n",
       "      <td>23.7225</td>\n",
       "      <td>26.1250</td>\n",
       "      <td>493.750000</td>\n",
       "      <td>774.750000</td>\n",
       "      <td>0.004744</td>\n",
       "      <td>1</td>\n",
       "    </tr>\n",
       "    <tr>\n",
       "      <td>4</td>\n",
       "      <td>2015-02-02 14:23:00</td>\n",
       "      <td>23.7540</td>\n",
       "      <td>26.2000</td>\n",
       "      <td>488.600000</td>\n",
       "      <td>779.000000</td>\n",
       "      <td>0.004767</td>\n",
       "      <td>1</td>\n",
       "    </tr>\n",
       "    <tr>\n",
       "      <td>...</td>\n",
       "      <td>...</td>\n",
       "      <td>...</td>\n",
       "      <td>...</td>\n",
       "      <td>...</td>\n",
       "      <td>...</td>\n",
       "      <td>...</td>\n",
       "      <td>...</td>\n",
       "    </tr>\n",
       "    <tr>\n",
       "      <td>20555</td>\n",
       "      <td>2015-02-18 09:15:00</td>\n",
       "      <td>20.8150</td>\n",
       "      <td>27.7175</td>\n",
       "      <td>429.750000</td>\n",
       "      <td>1505.250000</td>\n",
       "      <td>0.004213</td>\n",
       "      <td>1</td>\n",
       "    </tr>\n",
       "    <tr>\n",
       "      <td>20556</td>\n",
       "      <td>2015-02-18 09:16:00</td>\n",
       "      <td>20.8650</td>\n",
       "      <td>27.7450</td>\n",
       "      <td>423.500000</td>\n",
       "      <td>1514.500000</td>\n",
       "      <td>0.004230</td>\n",
       "      <td>1</td>\n",
       "    </tr>\n",
       "    <tr>\n",
       "      <td>20557</td>\n",
       "      <td>2015-02-18 09:16:59</td>\n",
       "      <td>20.8900</td>\n",
       "      <td>27.7450</td>\n",
       "      <td>423.500000</td>\n",
       "      <td>1521.500000</td>\n",
       "      <td>0.004237</td>\n",
       "      <td>1</td>\n",
       "    </tr>\n",
       "    <tr>\n",
       "      <td>20558</td>\n",
       "      <td>2015-02-18 09:17:59</td>\n",
       "      <td>20.8900</td>\n",
       "      <td>28.0225</td>\n",
       "      <td>418.750000</td>\n",
       "      <td>1632.000000</td>\n",
       "      <td>0.004279</td>\n",
       "      <td>1</td>\n",
       "    </tr>\n",
       "    <tr>\n",
       "      <td>20559</td>\n",
       "      <td>2015-02-18 09:19:00</td>\n",
       "      <td>21.0000</td>\n",
       "      <td>28.1000</td>\n",
       "      <td>409.000000</td>\n",
       "      <td>1864.000000</td>\n",
       "      <td>0.004321</td>\n",
       "      <td>1</td>\n",
       "    </tr>\n",
       "  </tbody>\n",
       "</table>\n",
       "<p>20560 rows × 7 columns</p>\n",
       "</div>"
      ],
      "text/plain": [
       "                      date  Temperature  Humidity       Light          CO2  \\\n",
       "0      2015-02-02 14:19:00      23.7000   26.2720  585.200000   749.200000   \n",
       "1      2015-02-02 14:19:59      23.7180   26.2900  578.400000   760.400000   \n",
       "2      2015-02-02 14:21:00      23.7300   26.2300  572.666667   769.666667   \n",
       "3      2015-02-02 14:22:00      23.7225   26.1250  493.750000   774.750000   \n",
       "4      2015-02-02 14:23:00      23.7540   26.2000  488.600000   779.000000   \n",
       "...                    ...          ...       ...         ...          ...   \n",
       "20555  2015-02-18 09:15:00      20.8150   27.7175  429.750000  1505.250000   \n",
       "20556  2015-02-18 09:16:00      20.8650   27.7450  423.500000  1514.500000   \n",
       "20557  2015-02-18 09:16:59      20.8900   27.7450  423.500000  1521.500000   \n",
       "20558  2015-02-18 09:17:59      20.8900   28.0225  418.750000  1632.000000   \n",
       "20559  2015-02-18 09:19:00      21.0000   28.1000  409.000000  1864.000000   \n",
       "\n",
       "       HumidityRatio  Occupancy  \n",
       "0           0.004764          1  \n",
       "1           0.004773          1  \n",
       "2           0.004765          1  \n",
       "3           0.004744          1  \n",
       "4           0.004767          1  \n",
       "...              ...        ...  \n",
       "20555       0.004213          1  \n",
       "20556       0.004230          1  \n",
       "20557       0.004237          1  \n",
       "20558       0.004279          1  \n",
       "20559       0.004321          1  \n",
       "\n",
       "[20560 rows x 7 columns]"
      ]
     },
     "execution_count": 9,
     "metadata": {},
     "output_type": "execute_result"
    }
   ],
   "source": [
    "df"
   ]
  },
  {
   "cell_type": "code",
   "execution_count": 10,
   "metadata": {},
   "outputs": [],
   "source": [
    "from sklearn.model_selection import train_test_split, cross_val_score \n",
    "\n",
    "from sklearn.metrics import accuracy_score, f1_score, classification_report\n",
    "from sklearn.metrics import roc_curve, auc, roc_auc_score"
   ]
  },
  {
   "cell_type": "markdown",
   "metadata": {},
   "source": [
    "Valutiamo i valori degli outliers che sono stati trovati dall'intersezione dei metodi (andrebbe fatto dopo)"
   ]
  },
  {
   "cell_type": "code",
   "execution_count": 11,
   "metadata": {},
   "outputs": [
    {
     "data": {
      "text/html": [
       "<div>\n",
       "<style scoped>\n",
       "    .dataframe tbody tr th:only-of-type {\n",
       "        vertical-align: middle;\n",
       "    }\n",
       "\n",
       "    .dataframe tbody tr th {\n",
       "        vertical-align: top;\n",
       "    }\n",
       "\n",
       "    .dataframe thead th {\n",
       "        text-align: right;\n",
       "    }\n",
       "</style>\n",
       "<table border=\"1\" class=\"dataframe\">\n",
       "  <thead>\n",
       "    <tr style=\"text-align: right;\">\n",
       "      <th></th>\n",
       "      <th>date</th>\n",
       "      <th>Temperature</th>\n",
       "      <th>Humidity</th>\n",
       "      <th>Light</th>\n",
       "      <th>CO2</th>\n",
       "      <th>HumidityRatio</th>\n",
       "      <th>Occupancy</th>\n",
       "    </tr>\n",
       "  </thead>\n",
       "  <tbody>\n",
       "    <tr>\n",
       "      <td>6497</td>\n",
       "      <td>2015-02-07 09:42:59</td>\n",
       "      <td>20.745</td>\n",
       "      <td>18.89</td>\n",
       "      <td>1451.75</td>\n",
       "      <td>453.0</td>\n",
       "      <td>0.002853</td>\n",
       "      <td>0</td>\n",
       "    </tr>\n",
       "  </tbody>\n",
       "</table>\n",
       "</div>"
      ],
      "text/plain": [
       "                     date  Temperature  Humidity    Light    CO2  \\\n",
       "6497  2015-02-07 09:42:59       20.745     18.89  1451.75  453.0   \n",
       "\n",
       "      HumidityRatio  Occupancy  \n",
       "6497       0.002853          0  "
      ]
     },
     "execution_count": 11,
     "metadata": {},
     "output_type": "execute_result"
    }
   ],
   "source": [
    "df[df[\"date\"]=='2015-02-07 09:42:59']"
   ]
  },
  {
   "cell_type": "code",
   "execution_count": 12,
   "metadata": {},
   "outputs": [
    {
     "data": {
      "text/html": [
       "<div>\n",
       "<style scoped>\n",
       "    .dataframe tbody tr th:only-of-type {\n",
       "        vertical-align: middle;\n",
       "    }\n",
       "\n",
       "    .dataframe tbody tr th {\n",
       "        vertical-align: top;\n",
       "    }\n",
       "\n",
       "    .dataframe thead th {\n",
       "        text-align: right;\n",
       "    }\n",
       "</style>\n",
       "<table border=\"1\" class=\"dataframe\">\n",
       "  <thead>\n",
       "    <tr style=\"text-align: right;\">\n",
       "      <th></th>\n",
       "      <th>date</th>\n",
       "      <th>Temperature</th>\n",
       "      <th>Humidity</th>\n",
       "      <th>Light</th>\n",
       "      <th>CO2</th>\n",
       "      <th>HumidityRatio</th>\n",
       "      <th>Occupancy</th>\n",
       "    </tr>\n",
       "  </thead>\n",
       "  <tbody>\n",
       "    <tr>\n",
       "      <td>6496</td>\n",
       "      <td>2015-02-07 09:42:00</td>\n",
       "      <td>20.7</td>\n",
       "      <td>18.89</td>\n",
       "      <td>1546.333333</td>\n",
       "      <td>455.333333</td>\n",
       "      <td>0.002845</td>\n",
       "      <td>0</td>\n",
       "    </tr>\n",
       "  </tbody>\n",
       "</table>\n",
       "</div>"
      ],
      "text/plain": [
       "                     date  Temperature  Humidity        Light         CO2  \\\n",
       "6496  2015-02-07 09:42:00         20.7     18.89  1546.333333  455.333333   \n",
       "\n",
       "      HumidityRatio  Occupancy  \n",
       "6496       0.002845          0  "
      ]
     },
     "execution_count": 12,
     "metadata": {},
     "output_type": "execute_result"
    }
   ],
   "source": [
    "df[df[\"date\"]=='2015-02-07 09:42:00']"
   ]
  },
  {
   "cell_type": "code",
   "execution_count": 13,
   "metadata": {},
   "outputs": [
    {
     "data": {
      "text/html": [
       "<div>\n",
       "<style scoped>\n",
       "    .dataframe tbody tr th:only-of-type {\n",
       "        vertical-align: middle;\n",
       "    }\n",
       "\n",
       "    .dataframe tbody tr th {\n",
       "        vertical-align: top;\n",
       "    }\n",
       "\n",
       "    .dataframe thead th {\n",
       "        text-align: right;\n",
       "    }\n",
       "</style>\n",
       "<table border=\"1\" class=\"dataframe\">\n",
       "  <thead>\n",
       "    <tr style=\"text-align: right;\">\n",
       "      <th></th>\n",
       "      <th>date</th>\n",
       "      <th>Temperature</th>\n",
       "      <th>Humidity</th>\n",
       "      <th>Light</th>\n",
       "      <th>CO2</th>\n",
       "      <th>HumidityRatio</th>\n",
       "      <th>Occupancy</th>\n",
       "    </tr>\n",
       "  </thead>\n",
       "  <tbody>\n",
       "    <tr>\n",
       "      <td>11947</td>\n",
       "      <td>2015-02-12 09:47:00</td>\n",
       "      <td>22.79</td>\n",
       "      <td>25.29</td>\n",
       "      <td>1581.0</td>\n",
       "      <td>1211.5</td>\n",
       "      <td>0.004338</td>\n",
       "      <td>1</td>\n",
       "    </tr>\n",
       "  </tbody>\n",
       "</table>\n",
       "</div>"
      ],
      "text/plain": [
       "                      date  Temperature  Humidity   Light     CO2  \\\n",
       "11947  2015-02-12 09:47:00        22.79     25.29  1581.0  1211.5   \n",
       "\n",
       "       HumidityRatio  Occupancy  \n",
       "11947       0.004338          1  "
      ]
     },
     "execution_count": 13,
     "metadata": {},
     "output_type": "execute_result"
    }
   ],
   "source": [
    "df[df[\"date\"]=='2015-02-12 09:47:00']"
   ]
  },
  {
   "cell_type": "code",
   "execution_count": 14,
   "metadata": {},
   "outputs": [
    {
     "data": {
      "text/html": [
       "<div>\n",
       "<style scoped>\n",
       "    .dataframe tbody tr th:only-of-type {\n",
       "        vertical-align: middle;\n",
       "    }\n",
       "\n",
       "    .dataframe tbody tr th {\n",
       "        vertical-align: top;\n",
       "    }\n",
       "\n",
       "    .dataframe thead th {\n",
       "        text-align: right;\n",
       "    }\n",
       "</style>\n",
       "<table border=\"1\" class=\"dataframe\">\n",
       "  <thead>\n",
       "    <tr style=\"text-align: right;\">\n",
       "      <th></th>\n",
       "      <th>date</th>\n",
       "      <th>Temperature</th>\n",
       "      <th>Humidity</th>\n",
       "      <th>Light</th>\n",
       "      <th>CO2</th>\n",
       "      <th>HumidityRatio</th>\n",
       "      <th>Occupancy</th>\n",
       "    </tr>\n",
       "  </thead>\n",
       "  <tbody>\n",
       "    <tr>\n",
       "      <td>11946</td>\n",
       "      <td>2015-02-12 09:46:00</td>\n",
       "      <td>22.772</td>\n",
       "      <td>25.29</td>\n",
       "      <td>1380.0</td>\n",
       "      <td>1202.5</td>\n",
       "      <td>0.004333</td>\n",
       "      <td>1</td>\n",
       "    </tr>\n",
       "  </tbody>\n",
       "</table>\n",
       "</div>"
      ],
      "text/plain": [
       "                      date  Temperature  Humidity   Light     CO2  \\\n",
       "11946  2015-02-12 09:46:00       22.772     25.29  1380.0  1202.5   \n",
       "\n",
       "       HumidityRatio  Occupancy  \n",
       "11946       0.004333          1  "
      ]
     },
     "execution_count": 14,
     "metadata": {},
     "output_type": "execute_result"
    }
   ],
   "source": [
    "df[df[\"date\"]=='2015-02-12 09:46:00']"
   ]
  },
  {
   "cell_type": "code",
   "execution_count": 15,
   "metadata": {},
   "outputs": [
    {
     "data": {
      "text/html": [
       "<div>\n",
       "<style scoped>\n",
       "    .dataframe tbody tr th:only-of-type {\n",
       "        vertical-align: middle;\n",
       "    }\n",
       "\n",
       "    .dataframe tbody tr th {\n",
       "        vertical-align: top;\n",
       "    }\n",
       "\n",
       "    .dataframe thead th {\n",
       "        text-align: right;\n",
       "    }\n",
       "</style>\n",
       "<table border=\"1\" class=\"dataframe\">\n",
       "  <thead>\n",
       "    <tr style=\"text-align: right;\">\n",
       "      <th></th>\n",
       "      <th>date</th>\n",
       "      <th>Temperature</th>\n",
       "      <th>Humidity</th>\n",
       "      <th>Light</th>\n",
       "      <th>CO2</th>\n",
       "      <th>HumidityRatio</th>\n",
       "      <th>Occupancy</th>\n",
       "    </tr>\n",
       "  </thead>\n",
       "  <tbody>\n",
       "    <tr>\n",
       "      <td>2601</td>\n",
       "      <td>2015-02-04 09:40:00</td>\n",
       "      <td>22.6</td>\n",
       "      <td>25.4725</td>\n",
       "      <td>1419.5</td>\n",
       "      <td>945.0</td>\n",
       "      <td>0.004319</td>\n",
       "      <td>1</td>\n",
       "    </tr>\n",
       "  </tbody>\n",
       "</table>\n",
       "</div>"
      ],
      "text/plain": [
       "                     date  Temperature  Humidity   Light    CO2  \\\n",
       "2601  2015-02-04 09:40:00         22.6   25.4725  1419.5  945.0   \n",
       "\n",
       "      HumidityRatio  Occupancy  \n",
       "2601       0.004319          1  "
      ]
     },
     "execution_count": 15,
     "metadata": {},
     "output_type": "execute_result"
    }
   ],
   "source": [
    "df[df[\"date\"]=='2015-02-04 09:40:00']"
   ]
  },
  {
   "cell_type": "markdown",
   "metadata": {},
   "source": [
    "# Dataset Preparation"
   ]
  },
  {
   "cell_type": "code",
   "execution_count": 11,
   "metadata": {},
   "outputs": [],
   "source": [
    "columns2remove = ['date']\n",
    "df.drop(columns2remove, inplace=True, axis=1)"
   ]
  },
  {
   "cell_type": "code",
   "execution_count": 12,
   "metadata": {},
   "outputs": [],
   "source": [
    "class_name = 'Occupancy'\n",
    "attributes = [col for col in df.columns if col != class_name]\n",
    "X = df[attributes].values\n",
    "y = df[class_name]\n",
    "\n",
    "X_train, X_test, y_train, y_test = train_test_split(X, y, test_size=0.3, random_state=1000, stratify=y)"
   ]
  },
  {
   "cell_type": "markdown",
   "metadata": {},
   "source": [
    "Acquisizione brutale delle colonne"
   ]
  },
  {
   "cell_type": "code",
   "execution_count": 13,
   "metadata": {},
   "outputs": [],
   "source": [
    "date = date_df[\"date\"]\n",
    "Temperature = date_df[\"Temperature\"]\n",
    "Humidity = date_df[\"Humidity\"]\n",
    "Light = date_df[\"Light\"]\n",
    "CO2 = date_df[\"CO2\"]\n",
    "HumidityRatio = date_df[\"HumidityRatio\"]"
   ]
  },
  {
   "cell_type": "markdown",
   "metadata": {},
   "source": [
    "# LOF - LOCAL OUTLIER FACTOR"
   ]
  },
  {
   "cell_type": "code",
   "execution_count": 66,
   "metadata": {},
   "outputs": [],
   "source": [
    "from sklearn.neighbors import LocalOutlierFactor"
   ]
  },
  {
   "cell_type": "code",
   "execution_count": 67,
   "metadata": {},
   "outputs": [],
   "source": [
    "clf = LocalOutlierFactor(n_neighbors=20)\n",
    "y_pred = clf.fit_predict(X)"
   ]
  },
  {
   "cell_type": "code",
   "execution_count": 68,
   "metadata": {},
   "outputs": [
    {
     "name": "stdout",
     "output_type": "stream",
     "text": [
      "(array([-1,  1]), array([  731, 19829], dtype=int64))\n"
     ]
    },
    {
     "data": {
      "text/plain": [
       "array([[2.22600000e+01, 2.48566667e+01, 0.00000000e+00, 7.69333333e+02,\n",
       "        4.12698756e-03],\n",
       "       [2.22300000e+01, 2.47933333e+01, 0.00000000e+00, 7.63250000e+02,\n",
       "        4.10884135e-03],\n",
       "       [2.22600000e+01, 2.48233333e+01, 0.00000000e+00, 7.62333333e+02,\n",
       "        4.12141651e-03],\n",
       "       ...,\n",
       "       [2.08650000e+01, 2.68650000e+01, 1.70000000e+01, 1.47625000e+03,\n",
       "        4.09520552e-03],\n",
       "       [2.07900000e+01, 2.67450000e+01, 5.07500000e+01, 1.46375000e+03,\n",
       "        4.05789464e-03],\n",
       "       [2.07900000e+01, 2.71225000e+01, 2.96000000e+02, 1.46700000e+03,\n",
       "        4.11554993e-03]])"
      ]
     },
     "execution_count": 68,
     "metadata": {},
     "output_type": "execute_result"
    }
   ],
   "source": [
    "print(np.unique(y_pred, return_counts=True))\n",
    "y_outliers = X[y_pred==-1]\n",
    "y_outliers"
   ]
  },
  {
   "cell_type": "code",
   "execution_count": 69,
   "metadata": {
    "scrolled": true
   },
   "outputs": [
    {
     "data": {
      "text/plain": [
       "(array([  233,   235,   236,   237,   238,   239,   240,   244,   245,\n",
       "          246,   247,   249,   252,   253,   254,   266,   306,   328,\n",
       "          329,   331,   361,   364,   378,   386,   454,   458,   459,\n",
       "          465,   470,   471,   475,   480,   481,   483,   486,   489,\n",
       "          490,   494,   498,   499,   750,   833,   940,   944,   954,\n",
       "          973,  1371,  1393,  1741,  1748,  1767,  1770,  1771,  1785,\n",
       "         1786,  1787,  1788,  1789,  1790,  1791,  1792,  1793,  1794,\n",
       "         1795,  1796,  1797,  1798,  1799,  1800,  1801,  1802,  1803,\n",
       "         1804,  1805,  1806,  1810,  1824,  1825,  1828,  1909,  2478,\n",
       "         2479,  2600,  2601,  2602,  2603,  2616,  2681,  2755,  2756,\n",
       "         2758,  2759,  2760,  2761,  2780,  2781,  2782,  2783,  2784,\n",
       "         2785,  2786,  2787,  2788,  2789,  2790,  2791,  2794,  2795,\n",
       "         3003,  3198,  3210,  3228,  3229,  3321,  3772,  3776,  3779,\n",
       "         3821,  3822,  3830,  3833,  3834,  3835,  3836,  3837,  3838,\n",
       "         3839,  3840,  3842,  3843,  3844,  3846,  3913,  4121,  4122,\n",
       "         4128,  4131,  4132,  4133,  4134,  4135,  4136,  4137,  4138,\n",
       "         4145,  4146,  4147,  4179,  4180,  4183,  4184,  4185,  4186,\n",
       "         4187,  4188,  4189,  4190,  4191,  4192,  4193,  4194,  4195,\n",
       "         4197,  4198,  4199,  4200,  4201,  4203,  4204,  4205,  4206,\n",
       "         4207,  4209,  4215,  4219,  4226,  4411,  4422,  4440,  4466,\n",
       "         4548,  4571,  4576,  4580,  4581,  4594,  4596,  4598,  4600,\n",
       "         4601,  4603,  4604,  4611,  4612,  4615,  4619,  4621,  4622,\n",
       "         4639,  4646,  4659,  4662,  4684,  4696,  4709,  4741,  4748,\n",
       "         4784,  4913,  4915,  4936,  5247,  5248,  5249,  5250,  5251,\n",
       "         5252,  5254,  5260,  5266,  5271,  5550,  5564,  5565,  5574,\n",
       "         5607,  5608,  5609,  5610,  5611,  5612,  5613,  5614,  5615,\n",
       "         5616,  5617,  5618,  5619,  5620,  5621,  5622,  5623,  5624,\n",
       "         5625,  5626,  5627,  5629,  5630,  5633,  5634,  5644,  5645,\n",
       "         5749,  5752,  6126,  6140,  6167,  6168,  6196,  6204,  6244,\n",
       "         6267,  6280,  6411,  6413,  6415,  6419,  6420,  6421,  6422,\n",
       "         6495,  6496,  6497,  6498,  6604,  6899,  6900,  6901,  6902,\n",
       "         6903,  6904,  6910,  6911,  6932,  6944,  6948,  6950,  6960,\n",
       "         6965,  6972,  6973,  6974,  6977,  6981,  6982,  6983,  6984,\n",
       "         6986,  6990,  6991,  7024,  7044,  7045,  7052,  7053,  7056,\n",
       "         7069,  7070,  7072,  7082,  7083,  7085,  7107,  7152,  7160,\n",
       "         7162,  7309,  7310,  7325,  7350,  7392,  7393,  7402,  7410,\n",
       "         7421,  7422,  7433,  7438,  7439,  7443,  7461,  7498,  7499,\n",
       "         7737,  7738,  7778,  7782,  7827,  7897,  7898,  8096,  8118,\n",
       "         8119,  8122,  8339,  8365,  8376,  8413,  8420,  8445,  8942,\n",
       "         9009,  9011,  9012,  9051,  9202,  9203,  9231,  9236,  9277,\n",
       "         9300,  9307,  9313,  9319,  9339,  9340,  9341,  9342,  9343,\n",
       "         9344,  9345,  9346,  9585,  9586,  9587,  9588,  9589,  9590,\n",
       "         9591,  9592,  9593,  9594,  9595,  9596,  9597,  9608,  9609,\n",
       "         9685,  9686,  9687,  9688,  9689,  9843,  9844,  9845,  9846,\n",
       "         9847,  9878,  9911,  9917,  9918,  9919,  9944, 10023, 10024,\n",
       "        10025, 10026, 10027, 10028, 10029, 10030, 10031, 10032, 10038,\n",
       "        10039, 10049, 10050, 10051, 10052, 10053, 10054, 10055, 10056,\n",
       "        10057, 10058, 10059, 10060, 10062, 10063, 10064, 10065, 10066,\n",
       "        10067, 10068, 10069, 10070, 10071, 10072, 10073, 10074, 10102,\n",
       "        10111, 10115, 10119, 10122, 10123, 10131, 10187, 10191, 10192,\n",
       "        10193, 10194, 10195, 10196, 10197, 10198, 10199, 10200, 10201,\n",
       "        10202, 10203, 10206, 10207, 10211, 10213, 10215, 10216, 10217,\n",
       "        10226, 10248, 10249, 10256, 10474, 10493, 10516, 10528, 10537,\n",
       "        10554, 10560, 10585, 10605, 10616, 10657, 10670, 10687, 10695,\n",
       "        10807, 10917, 11050, 11054, 11056, 11060, 11072, 11075, 11077,\n",
       "        11118, 11119, 11120, 11121, 11122, 11124, 11125, 11128, 11130,\n",
       "        11131, 11132, 11133, 11134, 11135, 11136, 11137, 11144, 11585,\n",
       "        11710, 11711, 11723, 11724, 11725, 11796, 11797, 11803, 11805,\n",
       "        11808, 11827, 11828, 11829, 11834, 11838, 11839, 11840, 11850,\n",
       "        11851, 11852, 11853, 11854, 11863, 11865, 11868, 11869, 11870,\n",
       "        11873, 11908, 11910, 11946, 11947, 11948, 11949, 12000, 12045,\n",
       "        12046, 12047, 12048, 12049, 12050, 12051, 12052, 12121, 12122,\n",
       "        12326, 12486, 12499, 12500, 12504, 12505, 12575, 12589, 12606,\n",
       "        12607, 12608, 12829, 13283, 13298, 13299, 13300, 13301, 13302,\n",
       "        13303, 13305, 13314, 13315, 13316, 13324, 13325, 13326, 13327,\n",
       "        13328, 13329, 13330, 13331, 13332, 13333, 13334, 13335, 13337,\n",
       "        13338, 13339, 13389, 13393, 13394, 13395, 13404, 13581, 13899,\n",
       "        13913, 13916, 13918, 13922, 13923, 13924, 13925, 13927, 13928,\n",
       "        13929, 13930, 13934, 13936, 14208, 14227, 14232, 14619, 14691,\n",
       "        14727, 14893, 14894, 14958, 15025, 15042, 15162, 15171, 15221,\n",
       "        15222, 15254, 15255, 15256, 15294, 15301, 15305, 15799, 15811,\n",
       "        15838, 16203, 16274, 16331, 16359, 16360, 16474, 16548, 16549,\n",
       "        16551, 16554, 16556, 16572, 16647, 16704, 16713, 16714, 16715,\n",
       "        16716, 16752, 16976, 16982, 16990, 16992, 16993, 16994, 16995,\n",
       "        16996, 16997, 16998, 16999, 17000, 17001, 17002, 17003, 17006,\n",
       "        17151, 17154, 17155, 17159, 17175, 17178, 17182, 17185, 17188,\n",
       "        17189, 17190, 17192, 17220, 17309, 17664, 17669, 17670, 17671,\n",
       "        17672, 17673, 17674, 17890, 17891, 18204, 18242, 18243, 18244,\n",
       "        18245, 19078, 19366, 19367, 19646, 19730, 19936, 20041, 20109,\n",
       "        20111, 20112, 20502, 20503, 20506, 20507, 20508, 20522, 20523,\n",
       "        20524, 20525, 20527, 20531, 20536, 20537, 20538, 20539, 20540,\n",
       "        20550, 20551], dtype=int64),)"
      ]
     },
     "execution_count": 69,
     "metadata": {},
     "output_type": "execute_result"
    }
   ],
   "source": [
    "np.where(y_pred==-1)"
   ]
  },
  {
   "cell_type": "code",
   "execution_count": 70,
   "metadata": {},
   "outputs": [
    {
     "data": {
      "text/plain": [
       "array([ -1.9538142 ,  -1.69287494,  -1.62766459,  -1.70807757,\n",
       "        -1.71198712,  -1.53012212,  -1.70243209,  -1.73648601,\n",
       "        -2.03607666,  -3.07792506,  -3.61385533,  -2.38109077,\n",
       "        -2.26212819,  -1.72610094,  -1.56287821,  -1.50753051,\n",
       "        -1.59597675,  -1.55285714,  -1.57244137,  -1.55310275,\n",
       "        -1.51133321,  -1.51453687,  -1.61546011,  -1.59674676,\n",
       "        -1.55165012,  -1.71589326,  -1.69844128,  -1.5577549 ,\n",
       "        -1.5577549 ,  -1.55667641,  -2.04820491,  -1.99498418,\n",
       "        -2.09273335,  -1.57180837,  -1.61047653,  -2.04566089,\n",
       "        -2.04991831,  -1.56926348,  -1.56985026,  -1.95944554,\n",
       "        -1.81428828,  -1.56044665,  -1.5316162 ,  -1.99474196,\n",
       "        -1.74728964,  -1.55471501, -10.13726099,  -2.89521934,\n",
       "        -1.51811981,  -1.52609872,  -1.57062751,  -1.71786347,\n",
       "        -1.66855348,  -1.85838164,  -1.82646078,  -1.75300035,\n",
       "        -1.8373346 ,  -1.71986124,  -1.92255295,  -1.69920246,\n",
       "        -1.89208722,  -2.16164763,  -2.66498664,  -2.97364478,\n",
       "        -2.68451899,  -2.81542216,  -3.90709967,  -2.64566676,\n",
       "        -3.32301029,  -4.80235602,  -5.39667703,  -4.62212465,\n",
       "        -5.33263247,  -4.80216025,  -4.44303267,  -2.31210167,\n",
       "        -2.69488828,  -2.55741691,  -1.61959302,  -1.60781472,\n",
       "        -2.61248348,  -2.19752207,  -1.80958183, -10.33747452,\n",
       "       -14.6335556 ,  -8.15314103,  -1.54703396,  -1.86409177,\n",
       "        -1.95458474,  -1.57463899,  -1.5008312 ,  -1.69502663,\n",
       "        -1.90764925,  -1.57463899,  -1.63178946,  -1.6251    ,\n",
       "        -1.80280678,  -1.74590957,  -1.7900054 ,  -1.75886702,\n",
       "        -1.7900054 ,  -1.76761921,  -1.70230314,  -1.80280678,\n",
       "        -1.68742241,  -1.773683  ,  -1.65810949,  -1.65810949,\n",
       "        -1.50085627,  -3.49158127,  -3.291757  ,  -2.14019727,\n",
       "        -3.4754741 ,  -1.54489642,  -1.67017513,  -1.69159197,\n",
       "        -1.51341578, -11.59232978,  -1.50962287,  -1.62139739,\n",
       "        -1.51805934,  -1.72135991,  -1.58399531,  -1.53181279,\n",
       "        -1.75982112,  -1.50301819,  -1.58531693,  -1.61233821,\n",
       "        -1.66666943,  -1.84817349,  -2.19447278,  -2.47353877,\n",
       "        -1.5111947 ,  -2.28829566,  -2.22517752,  -1.8453427 ,\n",
       "        -2.08103321,  -1.53202235,  -2.08721644,  -1.55630823,\n",
       "        -1.5326979 ,  -1.65567972,  -1.53027012,  -1.52864981,\n",
       "        -2.54005137,  -2.89021692,  -1.50022027,  -1.86367495,\n",
       "        -1.90120577,  -2.4392497 ,  -3.38467832,  -3.57857092,\n",
       "        -2.87097253,  -2.97103348,  -3.03277294,  -2.55141696,\n",
       "        -2.64805152,  -2.94975902,  -2.84746825,  -2.61765335,\n",
       "        -2.32373671,  -2.69619913,  -1.71478466,  -1.96191417,\n",
       "        -2.07553448,  -1.85648125,  -1.90512887,  -1.74399193,\n",
       "        -1.73599013,  -1.87248669,  -1.89972085,  -1.5804934 ,\n",
       "        -1.50208549,  -1.54296645,  -1.82839725,  -1.53048627,\n",
       "        -1.57654697,  -1.79459469,  -1.63640441,  -1.67560011,\n",
       "        -1.81851517,  -1.54204674,  -1.55036609,  -1.99523257,\n",
       "        -1.54649032,  -1.71594688,  -1.62378671,  -1.6606691 ,\n",
       "        -1.68401039,  -1.90031405,  -1.75339481,  -1.71531152,\n",
       "        -1.81333883,  -1.55207814,  -1.54834502,  -1.59033345,\n",
       "        -1.80522522,  -1.55207814,  -1.63391661,  -1.63909262,\n",
       "        -1.57769462,  -1.8444392 ,  -1.87207775,  -1.81777845,\n",
       "        -1.51202102,  -1.55968288,  -1.52306004,  -1.81169258,\n",
       "        -1.51595983,  -1.51595983,  -1.527149  ,  -3.08633047,\n",
       "        -3.08971497,  -2.01859512,  -2.06334182,  -2.31687309,\n",
       "        -1.79718113,  -1.87397988,  -1.66883809,  -1.64303979,\n",
       "        -1.79950827,  -1.54913434,  -1.5289197 ,  -1.52497584,\n",
       "        -1.58937211,  -1.7195806 ,  -2.9611623 ,  -2.85364437,\n",
       "        -3.57250266,  -3.20831503,  -3.33678758,  -3.39909811,\n",
       "        -3.37080136,  -3.24233641,  -2.62151365,  -2.88241338,\n",
       "        -3.02025456,  -3.18908484,  -3.27008316,  -2.94331642,\n",
       "        -3.04528139,  -3.01770211,  -2.29665544,  -1.60837605,\n",
       "        -1.73677967,  -1.5358954 ,  -1.74896589,  -1.94999885,\n",
       "        -1.66003736,  -1.74217616,  -1.59881217,  -1.97918824,\n",
       "        -1.70433813,  -1.64999909,  -1.51781426,  -1.54845484,\n",
       "        -1.53313012,  -1.59101865,  -1.67928491,  -1.53778559,\n",
       "        -1.576095  ,  -1.5361816 ,  -1.70034417,  -3.65698345,\n",
       "        -3.21695928,  -2.95906189,  -3.08740501,  -3.22510573,\n",
       "        -2.75737644,  -3.48970413,  -3.34081926, -23.97572627,\n",
       "       -24.10174016,  -8.57898464,  -1.54222599,  -3.63920214,\n",
       "        -2.66255579,  -6.81012957,  -2.90361207,  -3.80698601,\n",
       "        -5.28827478,  -2.44545052,  -2.16132198,  -3.8906352 ,\n",
       "        -2.16830287,  -1.97561117,  -1.66662644,  -1.8681624 ,\n",
       "        -1.55814355,  -1.77534297,  -2.02170675,  -1.61234156,\n",
       "        -1.79289949,  -2.05856213,  -2.30338392,  -1.54225242,\n",
       "        -1.61366863,  -1.70976928,  -1.76865584,  -1.81211447,\n",
       "        -1.85790686,  -1.64286702,  -1.94167561,  -1.7316305 ,\n",
       "        -1.74507247,  -1.8865656 ,  -2.82949197,  -1.60970945,\n",
       "        -2.4093415 ,  -1.96129019,  -1.81059915,  -1.89235599,\n",
       "        -2.00952911,  -1.60867621,  -1.71149995,  -1.61366403,\n",
       "        -2.04505282,  -1.80404007,  -2.0614857 ,  -1.52826647,\n",
       "        -2.11460648,  -1.52381652,  -2.4780215 ,  -1.57557833,\n",
       "        -1.98658697,  -1.72304565,  -1.60874657,  -1.60304977,\n",
       "        -1.59742615,  -1.85055517,  -1.68314386,  -4.07827621,\n",
       "        -4.1863562 ,  -1.73163375,  -2.29567321,  -2.78758722,\n",
       "        -1.93363368,  -1.51193896,  -1.75630402,  -1.69827397,\n",
       "        -2.46651352,  -1.59140097,  -1.51489105,  -1.70756289,\n",
       "        -1.6187837 ,  -1.51352097,  -1.5843099 ,  -2.10725186,\n",
       "        -1.72550441,  -1.99385629,  -1.63651492,  -1.54302428,\n",
       "        -1.57022414,  -1.57022414,  -1.64295251,  -1.51221296,\n",
       "        -1.51221296,  -2.4689017 ,  -1.52843833,  -1.59348814,\n",
       "        -1.66306932,  -1.52859092,  -1.52465396,  -1.65874104,\n",
       "        -1.50705425,  -2.30910927,  -2.36605522,  -2.63466632,\n",
       "        -2.34401543,  -2.23821134,  -1.64977212,  -1.52894263,\n",
       "        -3.64639374,  -3.37843152,  -3.31645704,  -2.73337105,\n",
       "        -1.91919733,  -1.85440692,  -1.97436507,  -1.86328432,\n",
       "        -2.87293349,  -2.86044031,  -2.56934521,  -1.86791901,\n",
       "        -1.6153077 ,  -3.38546679,  -5.91992694,  -1.54104977,\n",
       "        -1.50584317,  -1.84762852,  -1.73534507,  -1.67543474,\n",
       "        -7.3054211 ,  -2.58270839,  -2.39968653,  -1.5180708 ,\n",
       "        -1.50882059,  -7.39558609,  -1.59588682,  -1.61176988,\n",
       "        -1.67014668,  -1.70735215,  -1.68442493,  -1.60410606,\n",
       "        -1.63087614,  -2.64074762,  -2.67360632,  -2.43920941,\n",
       "        -4.14932068,  -3.80996637,  -3.87551296,  -1.62694952,\n",
       "        -1.60853551,  -1.75735144,  -1.76067467,  -1.70654827,\n",
       "        -1.77235257,  -1.72094086,  -1.77034091,  -1.70654827,\n",
       "        -1.8882396 ,  -1.53778635,  -2.49015972,  -2.16207713,\n",
       "        -1.7670025 ,  -2.1030487 ,  -2.31438171,  -1.65014552,\n",
       "        -2.24564358,  -3.22175152,  -4.27645877,  -3.40740369,\n",
       "        -3.05146684,  -4.18254359,  -3.60960567,  -3.17234157,\n",
       "        -3.97814191,  -3.83396707,  -3.54024489,  -3.3356626 ,\n",
       "        -3.67393554,  -1.50078001,  -1.50617244,  -1.51512001,\n",
       "        -1.70197555,  -1.77562884,  -1.87150868,  -1.61048671,\n",
       "        -1.61048671,  -1.66137992,  -1.54756927,  -2.22683366,\n",
       "        -1.66137992,  -2.55910969,  -2.57251894,  -1.83251278,\n",
       "        -1.93493729,  -1.66137992,  -2.31171897,  -2.6581505 ,\n",
       "        -2.22683366,  -2.05993095,  -1.86492801,  -2.01534911,\n",
       "        -1.55896478,  -1.61316863,  -1.5830948 ,  -1.56892527,\n",
       "        -1.52498635,  -2.19799785,  -1.51890208,  -1.80387629,\n",
       "        -1.63071585,  -2.00800112,  -1.7012469 ,  -1.62762131,\n",
       "        -1.83555371,  -1.82460205,  -1.83555371,  -1.83598741,\n",
       "        -1.78539349,  -1.87551056,  -1.92732207,  -1.53229448,\n",
       "        -1.5362978 ,  -1.5648867 ,  -1.66440924,  -2.10176949,\n",
       "        -2.81826301,  -2.24671659,  -2.29721032,  -2.02015778,\n",
       "        -1.52651595,  -1.54960361,  -2.28893879,  -1.8581662 ,\n",
       "        -1.93580777,  -2.15693695,  -1.88115203,  -1.94118434,\n",
       "        -1.91616597,  -1.67306265,  -1.62371655,  -2.16630281,\n",
       "        -2.3910939 ,  -2.53647059,  -2.58920449,  -2.38636261,\n",
       "        -2.38631561,  -2.53040378,  -2.19779271,  -1.83021276,\n",
       "        -1.87292304,  -1.52636761,  -1.57211666,  -1.73741963,\n",
       "        -1.64783433,  -1.6556334 ,  -2.58155121,  -1.73223158,\n",
       "        -2.60566223,  -2.43935236,  -2.39402601,  -2.02838069,\n",
       "        -1.85382181,  -1.50670788,  -1.75573808,  -2.43168272,\n",
       "        -2.19106054,  -1.80531604,  -4.85151357,  -8.55934571,\n",
       "        -4.23886209,  -5.72102558,  -5.53612571,  -1.71508378,\n",
       "        -3.61759185,  -6.43314014,  -1.92810457,  -1.8892824 ,\n",
       "        -2.00765067,  -1.69663631,  -1.61329469, -10.56464812,\n",
       "       -11.46615883,  -5.13197706,  -1.57934672,  -1.7548725 ,\n",
       "        -2.88694564,  -2.6077074 ,  -2.48526475,  -2.66750884,\n",
       "        -2.52411603,  -2.41862065,  -2.18196464,  -1.81751635,\n",
       "        -2.40891444,  -2.20313892,  -1.84894656,  -1.58438098,\n",
       "        -1.54801275,  -1.66063868,  -1.55870953,  -1.57363489,\n",
       "        -1.88258747,  -1.78118162,  -1.64357391,  -1.82860258,\n",
       "        -1.72091384,  -1.55917393,  -2.23430926,  -2.58948338,\n",
       "        -2.34696501,  -2.29406652,  -2.43115803,  -1.92908644,\n",
       "        -1.9611849 ,  -1.51555143,  -1.55841486,  -1.50222271,\n",
       "        -1.56183353,  -1.9375657 ,  -1.83906241,  -2.13631094,\n",
       "        -2.11448099,  -2.06963879,  -1.77035885,  -1.55616874,\n",
       "        -1.64431524,  -1.51959633,  -1.50867469,  -1.56930758,\n",
       "        -1.53155681,  -5.52626174,  -1.53109351,  -1.57252445,\n",
       "       -11.56176108,  -1.60338162,  -1.56207548,  -1.55082604,\n",
       "        -1.67629019,  -1.51318088,  -1.82959971,  -1.56167488,\n",
       "        -1.77220178,  -1.61788297,  -1.51568352,  -1.7920903 ,\n",
       "        -1.58646178,  -1.73437384,  -1.53119401,  -1.78008585,\n",
       "        -1.61277881,  -1.66852126,  -1.55355619,  -1.68982886,\n",
       "        -1.54289371,  -1.84619697,  -1.90548076,  -2.04097665,\n",
       "        -1.84096947,  -1.66393599,  -3.23861213,  -2.43519126,\n",
       "        -3.47253919,  -2.93323011,  -1.54527452,  -1.59942654,\n",
       "        -1.70099271,  -2.02420686,  -1.63903512,  -2.99295934,\n",
       "        -2.11784226,  -1.55145319,  -2.23040317,  -7.7085285 ,\n",
       "        -1.82295469,  -1.60414811,  -1.68822443,  -2.07102831,\n",
       "        -1.53308402,  -2.18856263,  -1.50697878,  -1.53084996,\n",
       "        -2.30077317,  -1.7138703 ,  -1.80799075,  -1.78714063,\n",
       "        -1.56454355,  -1.54812722,  -1.501591  ,  -1.55425422,\n",
       "        -1.72369317,  -1.85225891,  -1.68777983,  -2.19724513,\n",
       "        -3.34875941,  -1.79053216,  -5.6988621 ,  -1.98132265,\n",
       "        -1.67154569,  -1.68658198,  -1.69861198,  -1.8429133 ,\n",
       "        -1.57259477,  -1.62565122,  -1.65106328,  -1.52726377,\n",
       "        -1.58170189,  -1.63784365,  -1.67090922,  -1.79748398,\n",
       "        -1.54603372,  -1.55175706,  -1.60103898,  -1.55579064,\n",
       "        -2.34567898,  -2.17151328,  -2.50027227,  -1.60441317,\n",
       "        -1.6220838 ,  -1.52099069,  -1.52257417,  -1.6270579 ,\n",
       "        -1.63837769,  -1.573904  ,  -1.54023767,  -1.64736505,\n",
       "        -1.59711415,  -1.61192009,  -3.54818989,  -3.28010345,\n",
       "        -2.60273347,  -2.60333512,  -1.97831513,  -2.18437254,\n",
       "        -1.69969256,  -1.74289677,  -1.50269807,  -2.17402001,\n",
       "        -1.82751398,  -1.94534141,  -1.87209783,  -2.9902593 ,\n",
       "        -2.24077389,  -8.06551726,  -3.88086918,  -1.53952589,\n",
       "        -9.25957566,  -4.6571676 ,  -9.10907757,  -9.36997338,\n",
       "        -7.06230449,  -1.73229948,  -1.78433459,  -2.16128376,\n",
       "        -1.71214131,  -1.76068416,  -1.65454733,  -1.7843482 ,\n",
       "        -1.83361184,  -1.7972904 ,  -1.74395703,  -2.20817201,\n",
       "        -1.8581338 ,  -2.23495918,  -3.24105383,  -2.41185661,\n",
       "        -1.58529417,  -3.17672421,  -6.85061234])"
      ]
     },
     "execution_count": 70,
     "metadata": {},
     "output_type": "execute_result"
    }
   ],
   "source": [
    "clf.negative_outlier_factor_[np.where(y_pred==-1)]"
   ]
  },
  {
   "cell_type": "code",
   "execution_count": 71,
   "metadata": {},
   "outputs": [
    {
     "data": {
      "text/plain": [
       "-1.5002202733618775"
      ]
     },
     "execution_count": 71,
     "metadata": {},
     "output_type": "execute_result"
    }
   ],
   "source": [
    "#Il più grande outlier factor\n",
    "np.max(clf.negative_outlier_factor_[np.where(y_pred==-1)])"
   ]
  },
  {
   "cell_type": "code",
   "execution_count": null,
   "metadata": {},
   "outputs": [],
   "source": []
  },
  {
   "cell_type": "code",
   "execution_count": 101,
   "metadata": {},
   "outputs": [
    {
     "data": {
      "image/png": "[encoded data removed]",
      "text/plain": [
       "<Figure size 720x576 with 1 Axes>"
      ]
     },
     "metadata": {
      "needs_background": "light"
     },
     "output_type": "display_data"
    }
   ],
   "source": [
    "from matplotlib import pyplot\n",
    "from mpl_toolkits.mplot3d import Axes3D\n",
    "import random\n",
    "\n",
    "fig = plt.figure(figsize=(10,8))\n",
    "ax = fig.add_subplot(111, projection=\"3d\")\n",
    "\n",
    "sequence_containing_x_vals = X[:, 3]\n",
    "sequence_containing_y_vals = X[:, 2]\n",
    "sequence_containing_z_vals = X[:, 0]\n",
    "\n",
    "ax.scatter(sequence_containing_x_vals, sequence_containing_y_vals, sequence_containing_z_vals, c='b', alpha = 0.01)\n",
    "\n",
    "\n",
    "sequence_containing_x_vals = y_outliers[:,3]\n",
    "sequence_containing_y_vals = y_outliers[:,2]\n",
    "sequence_containing_z_vals = y_outliers[:,0]\n",
    "ax.scatter(sequence_containing_x_vals, sequence_containing_y_vals, sequence_containing_z_vals, c = 'r')\n",
    "\n",
    "ax.set_xlabel('CO2')\n",
    "ax.set_ylabel('Light')\n",
    "ax.set_zlabel('Temperature') \n",
    "\n",
    "ax.view_init(5, 60)\n",
    "plt.show()\n",
    "\n"
   ]
  },
  {
   "cell_type": "code",
   "execution_count": 19,
   "metadata": {},
   "outputs": [
    {
     "data": {
      "image/png": "[encoded data removed]",
      "text/plain": [
       "<Figure size 432x288 with 1 Axes>"
      ]
     },
     "metadata": {
      "needs_background": "light"
     },
     "output_type": "display_data"
    }
   ],
   "source": [
    "#Scatterplot di CO2 e Light\n",
    "y_outliers = X[y_pred==-1]\n",
    "a = plt.scatter(X[:, 3], X[:, 2], c='white', edgecolor='k', s=10)\n",
    "b = plt.scatter(y_outliers[:,3], y_outliers[:, 2], c='red', edgecolor='k', s=30)\n",
    "plt.ylabel(\"CO2\")\n",
    "plt.xlabel(\"Light\")\n",
    "plt.show()"
   ]
  },
  {
   "cell_type": "markdown",
   "metadata": {},
   "source": [
    "negative_outlier_factor\n",
    "Un valore normale tende ad avere un LOF score vicino ad 1 e un negative_outlier_factor vicino\n",
    "a -1, mentre gli outliers tendono ad avere un LOF score più alto.\n",
    "\n",
    "Al fine di eseguire il task è stata utilizzata la funzione LocalOutlierFactor che consente\n",
    "di calcolare l’opposto del LOF score per ogni punto del dataset. Sono stati quindi\n",
    "ordinati i punti per LOF score crescente in modo da ottenere il top 1% degli outlier. I\n",
    "seguenti scatter plot mostrano i punti classificati come outlier in rosso e l’andamento\n",
    "del LOF score sui punti del dataset."
   ]
  },
  {
   "cell_type": "code",
   "execution_count": 20,
   "metadata": {},
   "outputs": [
    {
     "data": {
      "image/png": "[encoded data removed]",
      "text/plain": [
       "<Figure size 432x288 with 2 Axes>"
      ]
     },
     "metadata": {
      "needs_background": "light"
     },
     "output_type": "display_data"
    }
   ],
   "source": [
    "plt.scatter(X[:, 3], X[:, 2], s=20, c=clf.negative_outlier_factor_, cmap='RdYlGn')\n",
    "plt.ylabel(\"CO2\")\n",
    "plt.xlabel(\"Light\")\n",
    "plt.colorbar()\n",
    "plt.show()"
   ]
  },
  {
   "cell_type": "markdown",
   "metadata": {},
   "source": [
    "## Voglio solo i top-1% degli outliers"
   ]
  },
  {
   "cell_type": "code",
   "execution_count": 21,
   "metadata": {},
   "outputs": [
    {
     "data": {
      "text/plain": [
       "20560"
      ]
     },
     "execution_count": 21,
     "metadata": {},
     "output_type": "execute_result"
    }
   ],
   "source": [
    "len(clf.negative_outlier_factor_)"
   ]
  },
  {
   "cell_type": "code",
   "execution_count": 105,
   "metadata": {},
   "outputs": [],
   "source": [
    "#perc = int(float(len(X))*0.01)\n",
    "perc =20"
   ]
  },
  {
   "cell_type": "code",
   "execution_count": 106,
   "metadata": {},
   "outputs": [],
   "source": [
    "Y = []\n",
    "for i in range(0,len(X)):\n",
    "    Y.append((X[i],clf.negative_outlier_factor_[i]))"
   ]
  },
  {
   "cell_type": "code",
   "execution_count": 107,
   "metadata": {},
   "outputs": [],
   "source": [
    "def takeSecond(elem):\n",
    "    return elem[1];\n",
    "#Ordino sulla base del LOF factor\n",
    "Z = sorted(Y, key=takeSecond)"
   ]
  },
  {
   "cell_type": "code",
   "execution_count": 108,
   "metadata": {
    "scrolled": true
   },
   "outputs": [
    {
     "data": {
      "text/plain": [
       "array([2.07450000e+01, 1.88900000e+01, 1.45175000e+03, 4.53000000e+02,\n",
       "       2.85265863e-03])"
      ]
     },
     "execution_count": 108,
     "metadata": {},
     "output_type": "execute_result"
    }
   ],
   "source": [
    "Z[0][0]"
   ]
  },
  {
   "cell_type": "code",
   "execution_count": 109,
   "metadata": {},
   "outputs": [],
   "source": [
    "R = Z[0][0]\n",
    "for i in range(1,perc):\n",
    "    R = np.vstack((R,Z[i][0]));\n",
    "    \n",
    "W = Z[perc+1][0]\n",
    "for i in range(perc+1,len(Z)):\n",
    "    W = np.vstack((W,Z[i][0]));"
   ]
  },
  {
   "cell_type": "code",
   "execution_count": 110,
   "metadata": {
    "scrolled": true
   },
   "outputs": [
    {
     "data": {
      "image/png": "[encoded data removed]",
      "text/plain": [
       "<Figure size 432x288 with 1 Axes>"
      ]
     },
     "metadata": {
      "needs_background": "light"
     },
     "output_type": "display_data"
    }
   ],
   "source": [
    "a = plt.scatter(R[:,3],R[:,2], c='red', edgecolor='k', s=30)\n",
    "b = plt.scatter(W[:,3],W[:,2], c='white', edgecolor='k', s=20)\n",
    "plt.ylabel(\"CO2\")\n",
    "plt.xlabel(\"Light\")\n",
    "plt.show()"
   ]
  },
  {
   "cell_type": "code",
   "execution_count": null,
   "metadata": {},
   "outputs": [],
   "source": []
  },
  {
   "cell_type": "code",
   "execution_count": 111,
   "metadata": {},
   "outputs": [
    {
     "data": {
      "text/plain": [
       "(array([-1,  1]), array([  731, 19829], dtype=int64))"
      ]
     },
     "execution_count": 111,
     "metadata": {},
     "output_type": "execute_result"
    }
   ],
   "source": [
    "np.unique(y_pred, return_counts=True)"
   ]
  },
  {
   "cell_type": "markdown",
   "metadata": {},
   "source": [
    "Prendiamo il datetime dei primi outliers"
   ]
  },
  {
   "cell_type": "code",
   "execution_count": 112,
   "metadata": {},
   "outputs": [],
   "source": [
    "first_10_outliers = Z[0:10]"
   ]
  },
  {
   "cell_type": "code",
   "execution_count": 113,
   "metadata": {},
   "outputs": [
    {
     "data": {
      "text/plain": [
       "(array([2.07450000e+01, 1.88900000e+01, 1.45175000e+03, 4.53000000e+02,\n",
       "        2.85265863e-03]),\n",
       " -24.101740157175342)"
      ]
     },
     "execution_count": 113,
     "metadata": {},
     "output_type": "execute_result"
    }
   ],
   "source": [
    "first_10_outliers[0]"
   ]
  },
  {
   "cell_type": "code",
   "execution_count": 114,
   "metadata": {},
   "outputs": [],
   "source": [
    "#Colonna con outlier (date), lof score \n",
    "LOF_res = []"
   ]
  },
  {
   "cell_type": "code",
   "execution_count": 115,
   "metadata": {},
   "outputs": [],
   "source": [
    "for i in range(0,10):\n",
    "    for j in range(0, len(date)):\n",
    "        if(Temperature[j] == first_10_outliers[i][0][0] and\n",
    "              Humidity[j] == first_10_outliers[i][0][1] and\n",
    "                  Light[j] == first_10_outliers[i][0][2] and\n",
    "                      CO2[j] == first_10_outliers[i][0][3] and\n",
    "                          HumidityRatio[j] == first_10_outliers[i][0][4]):\n",
    "            LOF_res.append((date[j], first_10_outliers[i][1]))"
   ]
  },
  {
   "cell_type": "code",
   "execution_count": 116,
   "metadata": {},
   "outputs": [
    {
     "data": {
      "text/plain": [
       "[('2015-02-07 09:42:59', -24.101740157175342),\n",
       " ('2015-02-07 09:42:00', -23.975726272442504),\n",
       " ('2015-02-04 09:40:59', -14.633555600151965),\n",
       " ('2015-02-05 13:07:00', -11.592329775297575),\n",
       " ('2015-02-13 09:49:00', -11.561761079105327),\n",
       " ('2015-02-12 09:47:00', -11.466158830194948),\n",
       " ('2015-02-12 09:46:00', -10.564648124142575),\n",
       " ('2015-02-04 09:40:00', -10.337474521703653),\n",
       " ('2015-02-03 13:09:59', -10.137260986894017),\n",
       " ('2015-02-18 01:51:00', -9.369973384314942)]"
      ]
     },
     "execution_count": 116,
     "metadata": {},
     "output_type": "execute_result"
    }
   ],
   "source": [
    "LOF_res"
   ]
  },
  {
   "cell_type": "markdown",
   "metadata": {},
   "source": [
    "# DEPTH-BASED - ConvexHull - LIGHT CO2\n",
    "Simple implementation based on ConvexHull function in Scipy library"
   ]
  },
  {
   "cell_type": "code",
   "execution_count": 18,
   "metadata": {},
   "outputs": [],
   "source": [
    "double_array= []\n",
    "for i in range(0, len(CO2)):\n",
    "    double_array.append([CO2[i], Light[i]])"
   ]
  },
  {
   "cell_type": "code",
   "execution_count": 19,
   "metadata": {},
   "outputs": [],
   "source": [
    "from scipy.spatial import ConvexHull\n",
    "\n",
    "\n",
    "hull = ConvexHull(np.array(double_array))\n",
    "\n",
    "def depth_outliers_745(points):\n",
    "    depth = list()\n",
    "    it = 0\n",
    "    dataset = points\n",
    "    while len(dataset) > 0 and it < 500:\n",
    "            if len(dataset) > 2:\n",
    "                hull = ConvexHull(dataset)\n",
    "                hv = hull.vertices\n",
    "            else:\n",
    "                hv = range(len(dataset))\n",
    "            depth.append(dataset[hv])\n",
    "            it = it + 1\n",
    "            print(\"Iterazione :\" + str(it))\n",
    "            dataset = np.array([ dataset[i] for i in range(len(dataset)) if i not in hv])\n",
    "    return depth\n"
   ]
  },
  {
   "cell_type": "code",
   "execution_count": 21,
   "metadata": {},
   "outputs": [],
   "source": [
    "def depth_outliers_4(points):\n",
    "    depth = list()\n",
    "    it = 0\n",
    "    dataset = points\n",
    "    while len(dataset) > 0 and it < 4:\n",
    "            if len(dataset) > 2:\n",
    "                hull = ConvexHull(dataset)\n",
    "                hv = hull.vertices\n",
    "            else:\n",
    "                hv = range(len(dataset))\n",
    "            depth.append(dataset[hv])\n",
    "            it = it + 1\n",
    "            print(\"Iterazione :\" + str(it))\n",
    "            dataset = np.array([ dataset[i] for i in range(len(dataset)) if i not in hv])\n",
    "    return depth\n"
   ]
  },
  {
   "cell_type": "code",
   "execution_count": 22,
   "metadata": {},
   "outputs": [
    {
     "name": "stdout",
     "output_type": "stream",
     "text": [
      "Iterazione :1\n",
      "Iterazione :2\n",
      "Iterazione :3\n",
      "Iterazione :4\n",
      "Layers:  4\n"
     ]
    },
    {
     "data": {
      "image/png": "[encoded data removed]",
      "text/plain": [
       "<Figure size 432x288 with 1 Axes>"
      ]
     },
     "metadata": {
      "needs_background": "light"
     },
     "output_type": "display_data"
    }
   ],
   "source": [
    "\n",
    "depth_set = depth_outliers_4(np.array(double_array))\n",
    "print (\"Layers: \", len(depth_set))\n",
    "\n",
    "for dd in depth_set:\n",
    "    dd2 = np.append(dd,[dd[0]],axis=0)\n",
    "    plt.plot(dd2[:,0], dd2[:,1], 'h-')\n",
    "    plt.scatter(CO2, Light, c='white', edgecolor='k', s=20)"
   ]
  },
  {
   "cell_type": "code",
   "execution_count": 23,
   "metadata": {},
   "outputs": [
    {
     "data": {
      "text/plain": [
       "Text(0.5, 0, 'Light')"
      ]
     },
     "execution_count": 23,
     "metadata": {},
     "output_type": "execute_result"
    },
    {
     "data": {
      "image/png": "[encoded data removed]",
      "text/plain": [
       "<Figure size 432x288 with 1 Axes>"
      ]
     },
     "metadata": {
      "needs_background": "light"
     },
     "output_type": "display_data"
    }
   ],
   "source": [
    "for dd in depth_set:\n",
    "    dd2 = np.append(dd,[dd[0]],axis=0)\n",
    "    plt.plot(dd2[:,0], dd2[:,1], 'h-')\n",
    "plt.scatter(CO2, Light, c='white', edgecolor='k', s=20)\n",
    "plt.ylabel(\"CO2\")\n",
    "plt.xlabel(\"Light\")"
   ]
  },
  {
   "cell_type": "code",
   "execution_count": 34,
   "metadata": {},
   "outputs": [
    {
     "name": "stdout",
     "output_type": "stream",
     "text": [
      "Iterazione :1\n",
      "Iterazione :2\n",
      "Iterazione :3\n",
      "Iterazione :4\n",
      "Iterazione :5\n",
      "Iterazione :6\n",
      "Iterazione :7\n",
      "Iterazione :8\n",
      "Iterazione :9\n",
      "Iterazione :10\n",
      "Iterazione :11\n",
      "Iterazione :12\n",
      "Iterazione :13\n",
      "Iterazione :14\n",
      "Iterazione :15\n",
      "Iterazione :16\n",
      "Iterazione :17\n",
      "Iterazione :18\n",
      "Iterazione :19\n",
      "Iterazione :20\n",
      "Iterazione :21\n",
      "Iterazione :22\n",
      "Iterazione :23\n",
      "Iterazione :24\n",
      "Iterazione :25\n",
      "Iterazione :26\n",
      "Iterazione :27\n",
      "Iterazione :28\n",
      "Iterazione :29\n",
      "Iterazione :30\n",
      "Iterazione :31\n",
      "Iterazione :32\n",
      "Iterazione :33\n",
      "Iterazione :34\n",
      "Iterazione :35\n",
      "Iterazione :36\n",
      "Iterazione :37\n",
      "Iterazione :38\n",
      "Iterazione :39\n",
      "Iterazione :40\n",
      "Iterazione :41\n",
      "Iterazione :42\n",
      "Iterazione :43\n",
      "Iterazione :44\n",
      "Iterazione :45\n",
      "Iterazione :46\n",
      "Iterazione :47\n",
      "Iterazione :48\n",
      "Iterazione :49\n",
      "Iterazione :50\n",
      "Iterazione :51\n",
      "Iterazione :52\n",
      "Iterazione :53\n",
      "Iterazione :54\n",
      "Iterazione :55\n",
      "Iterazione :56\n",
      "Iterazione :57\n",
      "Iterazione :58\n",
      "Iterazione :59\n",
      "Iterazione :60\n",
      "Iterazione :61\n",
      "Iterazione :62\n",
      "Iterazione :63\n",
      "Iterazione :64\n",
      "Iterazione :65\n",
      "Iterazione :66\n",
      "Iterazione :67\n",
      "Iterazione :68\n",
      "Iterazione :69\n",
      "Iterazione :70\n",
      "Iterazione :71\n",
      "Iterazione :72\n",
      "Iterazione :73\n",
      "Iterazione :74\n",
      "Iterazione :75\n",
      "Iterazione :76\n",
      "Iterazione :77\n",
      "Iterazione :78\n",
      "Iterazione :79\n",
      "Iterazione :80\n",
      "Iterazione :81\n",
      "Iterazione :82\n",
      "Iterazione :83\n",
      "Iterazione :84\n",
      "Iterazione :85\n",
      "Iterazione :86\n",
      "Iterazione :87\n",
      "Iterazione :88\n",
      "Iterazione :89\n",
      "Iterazione :90\n",
      "Iterazione :91\n",
      "Iterazione :92\n",
      "Iterazione :93\n",
      "Iterazione :94\n",
      "Iterazione :95\n",
      "Iterazione :96\n",
      "Iterazione :97\n",
      "Iterazione :98\n",
      "Iterazione :99\n",
      "Iterazione :100\n",
      "Iterazione :101\n",
      "Iterazione :102\n",
      "Iterazione :103\n",
      "Iterazione :104\n",
      "Iterazione :105\n",
      "Iterazione :106\n",
      "Iterazione :107\n",
      "Iterazione :108\n",
      "Iterazione :109\n",
      "Iterazione :110\n",
      "Iterazione :111\n",
      "Iterazione :112\n",
      "Iterazione :113\n",
      "Iterazione :114\n",
      "Iterazione :115\n",
      "Iterazione :116\n",
      "Iterazione :117\n",
      "Iterazione :118\n",
      "Iterazione :119\n",
      "Iterazione :120\n",
      "Iterazione :121\n",
      "Iterazione :122\n",
      "Iterazione :123\n",
      "Iterazione :124\n",
      "Iterazione :125\n",
      "Iterazione :126\n",
      "Iterazione :127\n",
      "Iterazione :128\n",
      "Iterazione :129\n",
      "Iterazione :130\n",
      "Iterazione :131\n",
      "Iterazione :132\n",
      "Iterazione :133\n",
      "Iterazione :134\n",
      "Iterazione :135\n",
      "Iterazione :136\n",
      "Iterazione :137\n",
      "Iterazione :138\n",
      "Iterazione :139\n",
      "Iterazione :140\n",
      "Iterazione :141\n",
      "Iterazione :142\n",
      "Iterazione :143\n",
      "Iterazione :144\n",
      "Iterazione :145\n",
      "Iterazione :146\n",
      "Iterazione :147\n",
      "Iterazione :148\n",
      "Iterazione :149\n",
      "Iterazione :150\n",
      "Iterazione :151\n",
      "Iterazione :152\n",
      "Iterazione :153\n",
      "Iterazione :154\n",
      "Iterazione :155\n",
      "Iterazione :156\n",
      "Iterazione :157\n",
      "Iterazione :158\n",
      "Iterazione :159\n",
      "Iterazione :160\n",
      "Iterazione :161\n",
      "Iterazione :162\n",
      "Iterazione :163\n",
      "Iterazione :164\n",
      "Iterazione :165\n",
      "Iterazione :166\n",
      "Iterazione :167\n",
      "Iterazione :168\n",
      "Iterazione :169\n",
      "Iterazione :170\n",
      "Iterazione :171\n",
      "Iterazione :172\n",
      "Iterazione :173\n",
      "Iterazione :174\n",
      "Iterazione :175\n",
      "Iterazione :176\n",
      "Iterazione :177\n",
      "Iterazione :178\n",
      "Iterazione :179\n",
      "Iterazione :180\n",
      "Iterazione :181\n",
      "Iterazione :182\n",
      "Iterazione :183\n",
      "Iterazione :184\n",
      "Iterazione :185\n",
      "Iterazione :186\n",
      "Iterazione :187\n",
      "Iterazione :188\n",
      "Iterazione :189\n",
      "Iterazione :190\n",
      "Iterazione :191\n",
      "Iterazione :192\n",
      "Iterazione :193\n",
      "Iterazione :194\n",
      "Iterazione :195\n",
      "Iterazione :196\n",
      "Iterazione :197\n",
      "Iterazione :198\n",
      "Iterazione :199\n",
      "Iterazione :200\n",
      "Iterazione :201\n",
      "Iterazione :202\n",
      "Iterazione :203\n",
      "Iterazione :204\n",
      "Iterazione :205\n",
      "Iterazione :206\n",
      "Iterazione :207\n",
      "Iterazione :208\n",
      "Iterazione :209\n",
      "Iterazione :210\n",
      "Iterazione :211\n",
      "Iterazione :212\n",
      "Iterazione :213\n",
      "Iterazione :214\n",
      "Iterazione :215\n",
      "Iterazione :216\n",
      "Iterazione :217\n",
      "Iterazione :218\n",
      "Iterazione :219\n",
      "Iterazione :220\n",
      "Iterazione :221\n",
      "Iterazione :222\n",
      "Iterazione :223\n",
      "Iterazione :224\n",
      "Iterazione :225\n",
      "Iterazione :226\n",
      "Iterazione :227\n",
      "Iterazione :228\n",
      "Iterazione :229\n",
      "Iterazione :230\n",
      "Iterazione :231\n",
      "Iterazione :232\n",
      "Iterazione :233\n",
      "Iterazione :234\n",
      "Iterazione :235\n",
      "Iterazione :236\n",
      "Iterazione :237\n",
      "Iterazione :238\n",
      "Iterazione :239\n",
      "Iterazione :240\n",
      "Iterazione :241\n",
      "Iterazione :242\n",
      "Iterazione :243\n",
      "Iterazione :244\n",
      "Iterazione :245\n",
      "Iterazione :246\n",
      "Iterazione :247\n",
      "Iterazione :248\n",
      "Iterazione :249\n",
      "Iterazione :250\n",
      "Iterazione :251\n",
      "Iterazione :252\n",
      "Iterazione :253\n",
      "Iterazione :254\n",
      "Iterazione :255\n",
      "Iterazione :256\n",
      "Iterazione :257\n",
      "Iterazione :258\n",
      "Iterazione :259\n",
      "Iterazione :260\n",
      "Iterazione :261\n",
      "Iterazione :262\n",
      "Iterazione :263\n",
      "Iterazione :264\n",
      "Iterazione :265\n",
      "Iterazione :266\n",
      "Iterazione :267\n",
      "Iterazione :268\n",
      "Iterazione :269\n",
      "Iterazione :270\n",
      "Iterazione :271\n",
      "Iterazione :272\n",
      "Iterazione :273\n",
      "Iterazione :274\n",
      "Iterazione :275\n",
      "Iterazione :276\n",
      "Iterazione :277\n",
      "Iterazione :278\n",
      "Iterazione :279\n",
      "Iterazione :280\n",
      "Iterazione :281\n",
      "Iterazione :282\n",
      "Iterazione :283\n",
      "Iterazione :284\n",
      "Iterazione :285\n",
      "Iterazione :286\n",
      "Iterazione :287\n",
      "Iterazione :288\n",
      "Iterazione :289\n",
      "Iterazione :290\n",
      "Iterazione :291\n",
      "Iterazione :292\n",
      "Iterazione :293\n",
      "Iterazione :294\n",
      "Iterazione :295\n",
      "Iterazione :296\n",
      "Iterazione :297\n",
      "Iterazione :298\n",
      "Iterazione :299\n",
      "Iterazione :300\n",
      "Iterazione :301\n",
      "Iterazione :302\n",
      "Iterazione :303\n",
      "Iterazione :304\n",
      "Iterazione :305\n",
      "Iterazione :306\n",
      "Iterazione :307\n",
      "Iterazione :308\n",
      "Iterazione :309\n",
      "Iterazione :310\n",
      "Iterazione :311\n",
      "Iterazione :312\n",
      "Iterazione :313\n",
      "Iterazione :314\n",
      "Iterazione :315\n",
      "Iterazione :316\n",
      "Iterazione :317\n",
      "Iterazione :318\n",
      "Iterazione :319\n",
      "Iterazione :320\n",
      "Iterazione :321\n",
      "Iterazione :322\n",
      "Iterazione :323\n",
      "Iterazione :324\n",
      "Iterazione :325\n",
      "Iterazione :326\n",
      "Iterazione :327\n",
      "Iterazione :328\n",
      "Iterazione :329\n",
      "Iterazione :330\n",
      "Iterazione :331\n",
      "Iterazione :332\n",
      "Iterazione :333\n",
      "Iterazione :334\n",
      "Iterazione :335\n",
      "Iterazione :336\n",
      "Iterazione :337\n",
      "Iterazione :338\n",
      "Iterazione :339\n",
      "Iterazione :340\n",
      "Iterazione :341\n",
      "Iterazione :342\n",
      "Iterazione :343\n",
      "Iterazione :344\n",
      "Iterazione :345\n",
      "Iterazione :346\n",
      "Iterazione :347\n",
      "Iterazione :348\n",
      "Iterazione :349\n",
      "Iterazione :350\n",
      "Iterazione :351\n",
      "Iterazione :352\n",
      "Iterazione :353\n",
      "Iterazione :354\n",
      "Iterazione :355\n",
      "Iterazione :356\n",
      "Iterazione :357\n",
      "Iterazione :358\n",
      "Iterazione :359\n",
      "Iterazione :360\n",
      "Iterazione :361\n",
      "Iterazione :362\n",
      "Iterazione :363\n",
      "Iterazione :364\n",
      "Iterazione :365\n",
      "Iterazione :366\n",
      "Iterazione :367\n",
      "Iterazione :368\n",
      "Iterazione :369\n",
      "Iterazione :370\n",
      "Iterazione :371\n",
      "Iterazione :372\n",
      "Iterazione :373\n",
      "Iterazione :374\n",
      "Iterazione :375\n",
      "Iterazione :376\n",
      "Iterazione :377\n",
      "Iterazione :378\n",
      "Iterazione :379\n",
      "Iterazione :380\n",
      "Iterazione :381\n",
      "Iterazione :382\n",
      "Iterazione :383\n",
      "Iterazione :384\n",
      "Iterazione :385\n",
      "Iterazione :386\n",
      "Iterazione :387\n",
      "Iterazione :388\n",
      "Iterazione :389\n",
      "Iterazione :390\n",
      "Iterazione :391\n",
      "Iterazione :392\n",
      "Iterazione :393\n",
      "Iterazione :394\n",
      "Iterazione :395\n",
      "Iterazione :396\n",
      "Iterazione :397\n",
      "Iterazione :398\n",
      "Iterazione :399\n",
      "Iterazione :400\n",
      "Iterazione :401\n",
      "Iterazione :402\n",
      "Iterazione :403\n",
      "Iterazione :404\n",
      "Iterazione :405\n",
      "Iterazione :406\n",
      "Iterazione :407\n",
      "Iterazione :408\n",
      "Iterazione :409\n",
      "Iterazione :410\n",
      "Iterazione :411\n",
      "Iterazione :412\n",
      "Iterazione :413\n",
      "Iterazione :414\n",
      "Iterazione :415\n",
      "Iterazione :416\n",
      "Iterazione :417\n",
      "Iterazione :418\n",
      "Iterazione :419\n",
      "Iterazione :420\n",
      "Iterazione :421\n",
      "Iterazione :422\n",
      "Iterazione :423\n",
      "Iterazione :424\n",
      "Iterazione :425\n",
      "Iterazione :426\n",
      "Iterazione :427\n",
      "Iterazione :428\n",
      "Iterazione :429\n",
      "Iterazione :430\n",
      "Iterazione :431\n",
      "Iterazione :432\n",
      "Iterazione :433\n",
      "Iterazione :434\n",
      "Iterazione :435\n",
      "Iterazione :436\n",
      "Iterazione :437\n",
      "Iterazione :438\n",
      "Iterazione :439\n",
      "Iterazione :440\n",
      "Iterazione :441\n",
      "Iterazione :442\n",
      "Iterazione :443\n",
      "Iterazione :444\n",
      "Iterazione :445\n",
      "Iterazione :446\n",
      "Iterazione :447\n",
      "Iterazione :448\n",
      "Iterazione :449\n",
      "Iterazione :450\n",
      "Iterazione :451\n",
      "Iterazione :452\n",
      "Iterazione :453\n",
      "Iterazione :454\n",
      "Iterazione :455\n",
      "Iterazione :456\n",
      "Iterazione :457\n",
      "Iterazione :458\n",
      "Iterazione :459\n",
      "Iterazione :460\n",
      "Iterazione :461\n",
      "Iterazione :462\n",
      "Iterazione :463\n",
      "Iterazione :464\n",
      "Iterazione :465\n",
      "Iterazione :466\n",
      "Iterazione :467\n",
      "Iterazione :468\n",
      "Iterazione :469\n",
      "Iterazione :470\n",
      "Iterazione :471\n",
      "Iterazione :472\n",
      "Iterazione :473\n",
      "Iterazione :474\n",
      "Iterazione :475\n",
      "Iterazione :476\n",
      "Iterazione :477\n",
      "Iterazione :478\n",
      "Iterazione :479\n",
      "Iterazione :480\n",
      "Iterazione :481\n",
      "Iterazione :482\n",
      "Iterazione :483\n",
      "Iterazione :484\n",
      "Iterazione :485\n",
      "Iterazione :486\n",
      "Iterazione :487\n",
      "Iterazione :488\n",
      "Iterazione :489\n",
      "Iterazione :490\n",
      "Iterazione :491\n",
      "Iterazione :492\n",
      "Iterazione :493\n",
      "Iterazione :494\n",
      "Iterazione :495\n",
      "Iterazione :496\n",
      "Iterazione :497\n",
      "Iterazione :498\n",
      "Iterazione :499\n",
      "Iterazione :500\n",
      "Layers:  500\n"
     ]
    },
    {
     "data": {
      "text/plain": [
       "Text(0.5, 0, 'Light')"
      ]
     },
     "execution_count": 34,
     "metadata": {},
     "output_type": "execute_result"
    },
    {
     "data": {
      "image/png": "[encoded data removed]",
      "text/plain": [
       "<Figure size 432x288 with 1 Axes>"
      ]
     },
     "metadata": {
      "needs_background": "light"
     },
     "output_type": "display_data"
    }
   ],
   "source": [
    "double_array= []\n",
    "for i in range(0, len(CO2)):\n",
    "    double_array.append([CO2[i], Light[i]])\n",
    "\n",
    "depth_set = depth_outliers_745(np.array(double_array))\n",
    "print (\"Layers: \", len(depth_set))\n",
    "for dd in depth_set:\n",
    "    dd2 = np.append(dd,[dd[0]],axis=0)\n",
    "    plt.plot(dd2[:,0], dd2[:,1], 'h-')\n",
    "plt.scatter(CO2, Light, c='white', edgecolor='k', s=20)\n",
    "plt.ylabel(\"CO2\")\n",
    "plt.xlabel(\"Light\")"
   ]
  },
  {
   "cell_type": "markdown",
   "metadata": {},
   "source": [
    "Convex Hull 3D"
   ]
  },
  {
   "cell_type": "code",
   "execution_count": 24,
   "metadata": {},
   "outputs": [],
   "source": [
    "triple_array= []\n",
    "for i in range(0, len(CO2)):\n",
    "    if(Light[i]!=0):\n",
    "        triple_array.append([CO2[i], Light[i], Temperature[i]])"
   ]
  },
  {
   "cell_type": "code",
   "execution_count": 25,
   "metadata": {},
   "outputs": [],
   "source": [
    "triple_array = np.array(triple_array)"
   ]
  },
  {
   "cell_type": "code",
   "execution_count": 26,
   "metadata": {},
   "outputs": [],
   "source": [
    "from mpl_toolkits.mplot3d import Axes3D\n",
    "from scipy.spatial import ConvexHull"
   ]
  },
  {
   "cell_type": "code",
   "execution_count": 27,
   "metadata": {},
   "outputs": [
    {
     "name": "stdout",
     "output_type": "stream",
     "text": [
      "[[ 749.2         585.2          23.7       ]\n",
      " [ 760.4         578.4          23.718     ]\n",
      " [ 769.66666667  572.66666667   23.73      ]\n",
      " ...\n",
      " [1521.5         423.5          20.89      ]\n",
      " [1632.          418.75         20.89      ]\n",
      " [1864.          409.           21.        ]]\n"
     ]
    }
   ],
   "source": [
    "print(triple_array)"
   ]
  },
  {
   "cell_type": "code",
   "execution_count": 28,
   "metadata": {},
   "outputs": [],
   "source": [
    "triple_array_tot = []\n",
    "for i in range(0, len(CO2)):\n",
    "    triple_array_tot.append([CO2[i], Light[i], Temperature[i]])\n",
    "triple_array_tot = np.array(triple_array_tot)"
   ]
  },
  {
   "cell_type": "code",
   "execution_count": 29,
   "metadata": {
    "scrolled": true
   },
   "outputs": [
    {
     "data": {
      "text/plain": [
       "array([[ 749.2       ,  585.2       ,   23.7       ],\n",
       "       [ 760.4       ,  578.4       ,   23.718     ],\n",
       "       [ 769.66666667,  572.66666667,   23.73      ],\n",
       "       ...,\n",
       "       [1521.5       ,  423.5       ,   20.89      ],\n",
       "       [1632.        ,  418.75      ,   20.89      ],\n",
       "       [1864.        ,  409.        ,   21.        ]])"
      ]
     },
     "execution_count": 29,
     "metadata": {},
     "output_type": "execute_result"
    }
   ],
   "source": [
    "triple_array"
   ]
  },
  {
   "cell_type": "code",
   "execution_count": 30,
   "metadata": {},
   "outputs": [],
   "source": [
    "hull = ConvexHull(triple_array_tot)"
   ]
  },
  {
   "cell_type": "code",
   "execution_count": 46,
   "metadata": {},
   "outputs": [
    {
     "data": {
      "image/png": "[encoded data removed]",
      "text/plain": [
       "<Figure size 720x576 with 1 Axes>"
      ]
     },
     "metadata": {
      "needs_background": "light"
     },
     "output_type": "display_data"
    }
   ],
   "source": [
    "# -----------------------\n",
    "fig = plt.figure(figsize=(10,8))\n",
    "ax = fig.add_subplot(111, projection=\"3d\")\n",
    "# Plot defining corner points\n",
    "# 12 = 2 * 6 faces are the simplices (2 simplices per square face)\n",
    "for s in hull.simplices:\n",
    "    s = np.append(s, s[0])  # Here we cycle back to the first coordinate\n",
    "    ax.plot(triple_array_tot[s, 0], triple_array_tot[s, 1], triple_array_tot[s, 2],\"ko\")\n",
    "    ax.plot(triple_array_tot[s, 0], triple_array_tot[s, 1], triple_array_tot[s, 2], \"r-\")\n",
    "ax.scatter(triple_array_tot.T[0], triple_array_tot.T[1], triple_array_tot.T[2], color='g', alpha = 0.01, edgecolors =\"k\")\n",
    "\n",
    "# Make axis label\n",
    "for i in [\"x\", \"y\", \"z\"]:\n",
    "    eval(\"ax.set_{:s}label('{:s}')\".format(i, i))\n",
    "    \n",
    "ax.set_xlabel('CO2')\n",
    "ax.set_ylabel('Light')\n",
    "ax.set_zlabel('Temperature') \n",
    "\n",
    "ax.view_init(40, 60)\n",
    "plt.show()"
   ]
  },
  {
   "cell_type": "code",
   "execution_count": 33,
   "metadata": {},
   "outputs": [],
   "source": [
    "hull = ConvexHull(triple_array_tot)"
   ]
  },
  {
   "cell_type": "code",
   "execution_count": 40,
   "metadata": {},
   "outputs": [
    {
     "data": {
      "text/plain": [
       "numpy.ndarray"
      ]
     },
     "execution_count": 40,
     "metadata": {},
     "output_type": "execute_result"
    }
   ],
   "source": [
    "type(triple_array_tot[s, 0])"
   ]
  },
  {
   "cell_type": "code",
   "execution_count": null,
   "metadata": {},
   "outputs": [],
   "source": []
  },
  {
   "cell_type": "code",
   "execution_count": null,
   "metadata": {},
   "outputs": [],
   "source": []
  },
  {
   "cell_type": "markdown",
   "metadata": {},
   "source": [
    "# Grubb's Test (Generalized ESD - non funziona? non è normale)"
   ]
  },
  {
   "cell_type": "code",
   "execution_count": 34,
   "metadata": {},
   "outputs": [],
   "source": [
    "def grubbs_stat(y):\n",
    "    std_dev = np.std(y)\n",
    "    avg_y = np.mean(y)\n",
    "    abs_val_minus_avg = abs(y - avg_y)\n",
    "    max_of_deviations = max(abs_val_minus_avg)\n",
    "    max_ind = np.argmax(abs_val_minus_avg)\n",
    "    Gcal = max_of_deviations/ std_dev\n",
    "    print(\"Grubbs Statistics Value : {}\".format(Gcal))\n",
    "    return Gcal, max_ind"
   ]
  },
  {
   "cell_type": "code",
   "execution_count": 35,
   "metadata": {},
   "outputs": [],
   "source": [
    "\n",
    "def calculate_critical_value(size, alpha):\n",
    "    t_dist = stats.t.ppf(1 - alpha / (2 * size), size - 2)\n",
    "    numerator = (size - 1) * np.sqrt(np.square(t_dist))\n",
    "    denominator = np.sqrt(size) * np.sqrt(size - 2 + np.square(t_dist))\n",
    "    critical_value = numerator / denominator\n",
    "    print(\"Grubbs Critical Value: {}\".format(critical_value))\n",
    "    return critical_value"
   ]
  },
  {
   "cell_type": "code",
   "execution_count": 36,
   "metadata": {},
   "outputs": [],
   "source": [
    "def check_G_values(Gs, Gc, inp, max_index):\n",
    "    if Gs > Gc:\n",
    "        print('{} is an outlier. G > G-critical: {:.4f} > {:.4f} \\n'.format(inp[max_index], Gs, Gc))\n",
    "    else:\n",
    "        print('{} is not an outlier. G > G-critical: {:.4f} > {:.4f} \\n'.format(inp[max_index], Gs, Gc))"
   ]
  },
  {
   "cell_type": "code",
   "execution_count": 37,
   "metadata": {},
   "outputs": [],
   "source": [
    "def ESD_Test(input_series, alpha, max_outliers):\n",
    "    for iterations in range(max_outliers):\n",
    "        Gcritical = calculate_critical_value(len(input_series), alpha)\n",
    "        Gstat, max_index = grubbs_stat(input_series)\n",
    "        check_G_values(Gstat, Gcritical, input_series, max_index)\n",
    "        input_series = np.delete(input_series, max_index)"
   ]
  },
  {
   "cell_type": "code",
   "execution_count": 38,
   "metadata": {},
   "outputs": [
    {
     "data": {
      "text/plain": [
       "array([[ 1,  2,  3,  4],\n",
       "       [ 9, 10, 11, 12]])"
      ]
     },
     "execution_count": 38,
     "metadata": {},
     "output_type": "execute_result"
    }
   ],
   "source": [
    "arr = np.array([[1,2,3,4], [5,6,7,8], [9,10,11,12]])\n",
    "np.delete(arr, 1, 0)"
   ]
  },
  {
   "cell_type": "code",
   "execution_count": 190,
   "metadata": {},
   "outputs": [],
   "source": [
    "x = np.array(Light)"
   ]
  },
  {
   "cell_type": "code",
   "execution_count": 193,
   "metadata": {},
   "outputs": [
    {
     "name": "stdout",
     "output_type": "stream",
     "text": [
      "20559\n"
     ]
    }
   ],
   "source": [
    "x = np.delete(x, 2602)\n",
    "print(len(x))"
   ]
  },
  {
   "cell_type": "code",
   "execution_count": 197,
   "metadata": {},
   "outputs": [
    {
     "name": "stdout",
     "output_type": "stream",
     "text": [
      "Grubbs Critical Value: 4.7125408803866495\n",
      "Grubbs Statistics Value : 7.444399361911846\n",
      "1697.25 is an outlier. G > G-critical: 7.4444 > 4.7125 \n",
      "\n",
      "Grubbs Critical Value: 4.712530923133029\n",
      "Grubbs Statistics Value : 6.901450558796002\n",
      "1581.0 is an outlier. G > G-critical: 6.9015 > 4.7125 \n",
      "\n",
      "Grubbs Critical Value: 4.712520965370457\n",
      "Grubbs Statistics Value : 6.744476117960084\n",
      "1546.33333333333 is an outlier. G > G-critical: 6.7445 > 4.7125 \n",
      "\n",
      "Grubbs Critical Value: 4.71251100709903\n",
      "Grubbs Statistics Value : 6.301033387085693\n",
      "1451.75 is an outlier. G > G-critical: 6.3010 > 4.7125 \n",
      "\n",
      "Grubbs Critical Value: 4.712501048337408\n",
      "Grubbs Statistics Value : 6.153330877043717\n",
      "1419.5 is an outlier. G > G-critical: 6.1533 > 4.7125 \n",
      "\n",
      "Grubbs Critical Value: 4.71249108906711\n",
      "Grubbs Statistics Value : 5.970427895458254\n",
      "1380.0 is an outlier. G > G-critical: 5.9704 > 4.7125 \n",
      "\n",
      "Grubbs Critical Value: 4.712481129269645\n",
      "Grubbs Statistics Value : 5.161868056943082\n",
      "1209.8 is an outlier. G > G-critical: 5.1619 > 4.7125 \n",
      "\n",
      "Grubbs Critical Value: 4.71247116898226\n",
      "Grubbs Statistics Value : 4.263141828649195\n",
      "1021.25 is not an outlier. G > G-critical: 4.2631 > 4.7125 \n",
      "\n",
      "Grubbs Critical Value: 4.712461208205039\n",
      "Grubbs Statistics Value : 4.213672166579218\n",
      "1010.5 is not an outlier. G > G-critical: 4.2137 > 4.7125 \n",
      "\n"
     ]
    }
   ],
   "source": [
    "ESD_Test(np.array(Light), 0.05, 9)"
   ]
  },
  {
   "cell_type": "code",
   "execution_count": 50,
   "metadata": {
    "scrolled": true
   },
   "outputs": [
    {
     "name": "stdout",
     "output_type": "stream",
     "text": [
      "Grubbs Critical Value: 4.7125408803866495\n",
      "Grubbs Statistics Value : 7.444399361911846\n",
      "1697.25 is an outlier. G > G-critical: 7.4444 > 4.7125 \n",
      "\n",
      "Grubbs Critical Value: 4.712530923133029\n",
      "Grubbs Statistics Value : 6.901450558796002\n",
      "1581.0 is an outlier. G > G-critical: 6.9015 > 4.7125 \n",
      "\n",
      "Grubbs Critical Value: 4.712520965370457\n",
      "Grubbs Statistics Value : 6.744476117960084\n",
      "1546.33333333333 is an outlier. G > G-critical: 6.7445 > 4.7125 \n",
      "\n",
      "Grubbs Critical Value: 4.71251100709903\n",
      "Grubbs Statistics Value : 6.301033387085693\n",
      "1451.75 is an outlier. G > G-critical: 6.3010 > 4.7125 \n",
      "\n",
      "Grubbs Critical Value: 4.712501048337408\n",
      "Grubbs Statistics Value : 6.153330877043717\n",
      "1419.5 is an outlier. G > G-critical: 6.1533 > 4.7125 \n",
      "\n",
      "Grubbs Critical Value: 4.71249108906711\n",
      "Grubbs Statistics Value : 5.970427895458254\n",
      "1380.0 is an outlier. G > G-critical: 5.9704 > 4.7125 \n",
      "\n",
      "Grubbs Critical Value: 4.712481129269645\n",
      "Grubbs Statistics Value : 5.161868056943082\n",
      "1209.8 is an outlier. G > G-critical: 5.1619 > 4.7125 \n",
      "\n"
     ]
    }
   ],
   "source": [
    "ESD_Test(np.array(Light), 0.05, 7)"
   ]
  },
  {
   "cell_type": "code",
   "execution_count": 51,
   "metadata": {},
   "outputs": [
    {
     "name": "stdout",
     "output_type": "stream",
     "text": [
      "Grubbs Critical Value: 3.371402809864498\n",
      "Grubbs Statistics Value : 2.3393870329829025\n",
      "686.0 is not an outlier. G > G-critical: 2.3394 > 3.3714 \n",
      "\n",
      "Grubbs Critical Value: 3.370996878443238\n",
      "Grubbs Statistics Value : 2.3452889280848512\n",
      "685.75 is not an outlier. G > G-critical: 2.3453 > 3.3710 \n",
      "\n",
      "Grubbs Critical Value: 3.3705903128190355\n",
      "Grubbs Statistics Value : 2.3362475862661043\n",
      "684.75 is not an outlier. G > G-critical: 2.3362 > 3.3706 \n",
      "\n",
      "Grubbs Critical Value: 3.3701831110742306\n",
      "Grubbs Statistics Value : 2.3421090325087186\n",
      "684.5 is not an outlier. G > G-critical: 2.3421 > 3.3702 \n",
      "\n",
      "Grubbs Critical Value: 3.3697752712824194\n",
      "Grubbs Statistics Value : 2.3362882576291186\n",
      "683.666666666667 is not an outlier. G > G-critical: 2.3363 > 3.3698 \n",
      "\n",
      "Grubbs Critical Value: 3.369366791508768\n",
      "Grubbs Statistics Value : 2.3438339660675256\n",
      "683.5 is not an outlier. G > G-critical: 2.3438 > 3.3694 \n",
      "\n",
      "Grubbs Critical Value: 3.3689576698094927\n",
      "Grubbs Statistics Value : 2.3447189975051597\n",
      "683.0 is not an outlier. G > G-critical: 2.3447 > 3.3690 \n",
      "\n",
      "Grubbs Critical Value: 3.3685479042322553\n",
      "Grubbs Statistics Value : 2.348989825497956\n",
      "682.666666666667 is not an outlier. G > G-critical: 2.3490 > 3.3685 \n",
      "\n",
      "Grubbs Critical Value: 3.368137492815804\n",
      "Grubbs Statistics Value : 2.3465034637304685\n",
      "682.0 is not an outlier. G > G-critical: 2.3465 > 3.3681 \n",
      "\n"
     ]
    }
   ],
   "source": [
    "ESD_Test(np.array(x[300:1000]), 0.5, 9)\n"
   ]
  },
  {
   "cell_type": "code",
   "execution_count": 48,
   "metadata": {},
   "outputs": [
    {
     "name": "stdout",
     "output_type": "stream",
     "text": [
      "Statistics=156.851, p=0.000\n",
      "Sample does not look Gaussian (reject H0)\n"
     ]
    }
   ],
   "source": [
    "from scipy.stats import normaltest\n",
    "\n",
    "# normality test\n",
    "stat, p = normaltest(x[200:600])\n",
    "print('Statistics=%.3f, p=%.3f' % (stat, p))\n",
    "# interpret\n",
    "alpha = 0.05\n",
    "if p > alpha:\n",
    "\tprint('Sample looks Gaussian (fail to reject H0)')\n",
    "else:\n",
    "\tprint('Sample does not look Gaussian (reject H0)')"
   ]
  },
  {
   "cell_type": "code",
   "execution_count": null,
   "metadata": {},
   "outputs": [],
   "source": []
  },
  {
   "cell_type": "markdown",
   "metadata": {},
   "source": [
    "# ABOD"
   ]
  },
  {
   "cell_type": "code",
   "execution_count": 238,
   "metadata": {},
   "outputs": [],
   "source": [
    "class_name = 'Occupancy'\n",
    "attributes = [col for col in df.columns if col != class_name]\n",
    "X = df[attributes].values\n",
    "y = df[class_name]\n",
    "\n",
    "X_train, X_test, y_train, y_test = train_test_split(X, y, test_size=0.3, random_state=1000, stratify=y)"
   ]
  },
  {
   "cell_type": "code",
   "execution_count": 239,
   "metadata": {},
   "outputs": [],
   "source": [
    "from pyod.models.abod import ABOD"
   ]
  },
  {
   "cell_type": "code",
   "execution_count": 240,
   "metadata": {},
   "outputs": [
    {
     "data": {
      "text/plain": [
       "ABOD(contamination=0.1, method='fast', n_neighbors=20)"
      ]
     },
     "execution_count": 240,
     "metadata": {},
     "output_type": "execute_result"
    }
   ],
   "source": [
    "clf = ABOD(n_neighbors=20)\n",
    "clf.fit(X)"
   ]
  },
  {
   "cell_type": "code",
   "execution_count": 173,
   "metadata": {},
   "outputs": [
    {
     "data": {
      "text/plain": [
       "-1.9868156662236268e-12"
      ]
     },
     "execution_count": 173,
     "metadata": {},
     "output_type": "execute_result"
    }
   ],
   "source": [
    "max(clf.decision_scores_)"
   ]
  },
  {
   "cell_type": "code",
   "execution_count": 241,
   "metadata": {},
   "outputs": [
    {
     "data": {
      "text/plain": [
       "(array([0, 1]), array([18593,  1967], dtype=int64))"
      ]
     },
     "execution_count": 241,
     "metadata": {},
     "output_type": "execute_result"
    }
   ],
   "source": [
    "outliers = clf.predict(X)\n",
    "np.unique(outliers, return_counts=True)"
   ]
  },
  {
   "cell_type": "code",
   "execution_count": 195,
   "metadata": {},
   "outputs": [],
   "source": [
    "#Colonna con outlier (date), ABOD score \n",
    "ABOD_res = []\n",
    "it = 0\n",
    "for i in date:\n",
    "    if outliers[it] == 1:\n",
    "        ABOD_res.append((i, clf.decision_scores_[it]))\n",
    "    it = it + 1"
   ]
  },
  {
   "cell_type": "code",
   "execution_count": 196,
   "metadata": {},
   "outputs": [
    {
     "data": {
      "text/plain": [
       "array([-6.97718576e-07, -2.94074701e-06, -5.81050376e-06, ...,\n",
       "       -2.57822901e-06, -2.58540169e-06, -1.64391487e-07])"
      ]
     },
     "execution_count": 196,
     "metadata": {},
     "output_type": "execute_result"
    }
   ],
   "source": [
    "clf.decision_scores_[np.where(outliers==1)]"
   ]
  },
  {
   "cell_type": "code",
   "execution_count": 198,
   "metadata": {},
   "outputs": [],
   "source": [
    "ABOD_LOF_res = []\n",
    "for i,j in LOF_res:\n",
    "    for k, s in ABOD_res:\n",
    "        if i==k:\n",
    "            ABOD_LOF_res.append((k, s))"
   ]
  },
  {
   "cell_type": "code",
   "execution_count": 199,
   "metadata": {
    "scrolled": true
   },
   "outputs": [
    {
     "data": {
      "text/plain": [
       "[('2015-02-07 09:42:59', -2.513307328659954e-11),\n",
       " ('2015-02-07 09:42:00', -1.1767515673475175e-11),\n",
       " ('2015-02-04 09:40:59', -1.9868156662236268e-12),\n",
       " ('2015-02-05 13:07:00', -2.306174032818333e-08),\n",
       " ('2015-02-13 09:49:00', -4.7755533156445e-12),\n",
       " ('2015-02-12 09:47:00', -4.205047176658341e-12),\n",
       " ('2015-02-12 09:46:00', -1.541498278020964e-11),\n",
       " ('2015-02-04 09:40:00', -1.2509116073261053e-11),\n",
       " ('2015-02-03 13:09:59', -1.060251454706674e-08),\n",
       " ('2015-02-18 01:51:00', -8.412701362140855e-07)]"
      ]
     },
     "execution_count": 199,
     "metadata": {},
     "output_type": "execute_result"
    }
   ],
   "source": [
    "ABOD_LOF_res"
   ]
  },
  {
   "cell_type": "code",
   "execution_count": null,
   "metadata": {},
   "outputs": [],
   "source": []
  },
  {
   "cell_type": "markdown",
   "metadata": {},
   "source": [
    "# ABOD NEIGHBOURS 7"
   ]
  },
  {
   "cell_type": "code",
   "execution_count": 239,
   "metadata": {},
   "outputs": [],
   "source": [
    "from pyod.models.abod import ABOD"
   ]
  },
  {
   "cell_type": "code",
   "execution_count": 252,
   "metadata": {},
   "outputs": [
    {
     "data": {
      "text/plain": [
       "ABOD(contamination=0.1, method='fast', n_neighbors=10)"
      ]
     },
     "execution_count": 252,
     "metadata": {},
     "output_type": "execute_result"
    }
   ],
   "source": [
    "clf = ABOD(n_neighbors=10)\n",
    "clf.fit(X)"
   ]
  },
  {
   "cell_type": "code",
   "execution_count": 253,
   "metadata": {},
   "outputs": [
    {
     "data": {
      "text/plain": [
       "-0.0"
      ]
     },
     "execution_count": 253,
     "metadata": {},
     "output_type": "execute_result"
    }
   ],
   "source": [
    "max(clf.decision_scores_)"
   ]
  },
  {
   "cell_type": "code",
   "execution_count": 254,
   "metadata": {},
   "outputs": [
    {
     "name": "stderr",
     "output_type": "stream",
     "text": [
      "c:\\users\\matte\\appdata\\local\\programs\\python\\python37\\lib\\site-packages\\numpy\\core\\fromnumeric.py:3584: RuntimeWarning: Degrees of freedom <= 0 for slice\n",
      "  **kwargs)\n",
      "c:\\users\\matte\\appdata\\local\\programs\\python\\python37\\lib\\site-packages\\numpy\\core\\_methods.py:186: RuntimeWarning: invalid value encountered in true_divide\n",
      "  arrmean, rcount, out=arrmean, casting='unsafe', subok=False)\n",
      "c:\\users\\matte\\appdata\\local\\programs\\python\\python37\\lib\\site-packages\\numpy\\core\\_methods.py:209: RuntimeWarning: invalid value encountered in double_scalars\n",
      "  ret = ret.dtype.type(ret / rcount)\n",
      "c:\\users\\matte\\appdata\\local\\programs\\python\\python37\\lib\\site-packages\\pyod\\models\\base.py:168: RuntimeWarning: invalid value encountered in greater\n",
      "  return (pred_score > self.threshold_).astype('int').ravel()\n"
     ]
    },
    {
     "data": {
      "text/plain": [
       "(array([0, 1]), array([18559,  2001], dtype=int64))"
      ]
     },
     "execution_count": 254,
     "metadata": {},
     "output_type": "execute_result"
    }
   ],
   "source": [
    "outliers = clf.predict(X)\n",
    "np.unique(outliers, return_counts=True)"
   ]
  },
  {
   "cell_type": "code",
   "execution_count": 255,
   "metadata": {},
   "outputs": [],
   "source": [
    "#Colonna con outlier (date), ABOD score \n",
    "ABOD_res_10 = []\n",
    "it = 0\n",
    "for i in date:\n",
    "    if outliers[it] == 1:\n",
    "        ABOD_res_10.append((i, clf.decision_scores_[it]))\n",
    "    it = it + 1"
   ]
  },
  {
   "cell_type": "code",
   "execution_count": 256,
   "metadata": {},
   "outputs": [
    {
     "data": {
      "text/plain": [
       "array([-1.03278073e-06, -7.86580584e-06, -1.01062153e-05, ...,\n",
       "       -6.35305207e-06, -7.13963351e-06, -1.46440296e-07])"
      ]
     },
     "execution_count": 256,
     "metadata": {},
     "output_type": "execute_result"
    }
   ],
   "source": [
    "clf.decision_scores_[np.where(outliers==1)]"
   ]
  },
  {
   "cell_type": "code",
   "execution_count": 257,
   "metadata": {},
   "outputs": [],
   "source": [
    "ABOD_LOF_res_10 = []\n",
    "for i,j in LOF_res:\n",
    "    for k, s in ABOD_res_10:\n",
    "        if i==k:\n",
    "            ABOD_LOF_res_10.append((k, s))"
   ]
  },
  {
   "cell_type": "code",
   "execution_count": 258,
   "metadata": {
    "scrolled": true
   },
   "outputs": [
    {
     "data": {
      "text/plain": [
       "[('2015-02-07 09:42:59', -4.348729959039457e-11),\n",
       " ('2015-02-07 09:42:00', -2.1875771119282008e-11),\n",
       " ('2015-02-04 09:40:59', -5.880587193783182e-12),\n",
       " ('2015-02-05 13:07:00', -4.598913983346434e-08),\n",
       " ('2015-02-13 09:49:00', -9.145173702181726e-12),\n",
       " ('2015-02-12 09:47:00', -9.2613500522263e-12),\n",
       " ('2015-02-12 09:46:00', -2.850660694241301e-11),\n",
       " ('2015-02-04 09:40:00', -2.5883701400573378e-11),\n",
       " ('2015-02-03 13:09:59', -2.1826092199324434e-08),\n",
       " ('2015-02-18 01:51:00', -3.3799403068679393e-06)]"
      ]
     },
     "execution_count": 258,
     "metadata": {},
     "output_type": "execute_result"
    }
   ],
   "source": [
    "ABOD_LOF_res_10"
   ]
  },
  {
   "cell_type": "markdown",
   "metadata": {},
   "source": [
    "# KNN"
   ]
  },
  {
   "cell_type": "code",
   "execution_count": 105,
   "metadata": {},
   "outputs": [],
   "source": [
    "from pyod.models.knn import KNN"
   ]
  },
  {
   "cell_type": "code",
   "execution_count": 106,
   "metadata": {},
   "outputs": [
    {
     "data": {
      "text/plain": [
       "KNN(algorithm='auto', contamination=0.1, leaf_size=30, method='largest',\n",
       "  metric='minkowski', metric_params=None, n_jobs=1, n_neighbors=5, p=2,\n",
       "  radius=1.0)"
      ]
     },
     "execution_count": 106,
     "metadata": {},
     "output_type": "execute_result"
    }
   ],
   "source": [
    "clf = KNN()\n",
    "clf.fit(X)"
   ]
  },
  {
   "cell_type": "code",
   "execution_count": 107,
   "metadata": {},
   "outputs": [
    {
     "data": {
      "text/plain": [
       "array([25.77791707, 14.40479525, 12.59785793, ..., 16.47414951,\n",
       "       16.599055  , 26.4345963 ])"
      ]
     },
     "execution_count": 107,
     "metadata": {},
     "output_type": "execute_result"
    }
   ],
   "source": [
    "clf.decision_scores_"
   ]
  },
  {
   "cell_type": "code",
   "execution_count": 108,
   "metadata": {},
   "outputs": [],
   "source": [
    "anomlay_score = clf.decision_function(X)"
   ]
  },
  {
   "cell_type": "code",
   "execution_count": 109,
   "metadata": {},
   "outputs": [
    {
     "data": {
      "text/plain": [
       "(array([0, 1]), array([18953,  1607], dtype=int64))"
      ]
     },
     "execution_count": 109,
     "metadata": {},
     "output_type": "execute_result"
    }
   ],
   "source": [
    "outliers = clf.predict(X)\n",
    "np.unique(outliers, return_counts=True)"
   ]
  },
  {
   "cell_type": "code",
   "execution_count": 110,
   "metadata": {},
   "outputs": [],
   "source": [
    "#Colonna con outlier (date), KNN score \n",
    "KNN_res = []\n",
    "it = 0\n",
    "for i in date:\n",
    "    if outliers[it] == 1:\n",
    "        KNN_res.append((i, clf.decision_scores_[it]))\n",
    "    it = it + 1"
   ]
  },
  {
   "cell_type": "code",
   "execution_count": 111,
   "metadata": {},
   "outputs": [
    {
     "ename": "NameError",
     "evalue": "name 'LOF_res' is not defined",
     "output_type": "error",
     "traceback": [
      "\u001b[1;31m---------------------------------------------------------------------------\u001b[0m",
      "\u001b[1;31mNameError\u001b[0m                                 Traceback (most recent call last)",
      "\u001b[1;32m<ipython-input-111-db433773c2d0>\u001b[0m in \u001b[0;36m<module>\u001b[1;34m\u001b[0m\n\u001b[0;32m      1\u001b[0m \u001b[0mKNN_LOF_res\u001b[0m \u001b[1;33m=\u001b[0m \u001b[1;33m[\u001b[0m\u001b[1;33m]\u001b[0m\u001b[1;33m\u001b[0m\u001b[1;33m\u001b[0m\u001b[0m\n\u001b[1;32m----> 2\u001b[1;33m \u001b[1;32mfor\u001b[0m \u001b[0mi\u001b[0m\u001b[1;33m,\u001b[0m\u001b[0mj\u001b[0m \u001b[1;32min\u001b[0m \u001b[0mLOF_res\u001b[0m\u001b[1;33m:\u001b[0m\u001b[1;33m\u001b[0m\u001b[1;33m\u001b[0m\u001b[0m\n\u001b[0m\u001b[0;32m      3\u001b[0m     \u001b[1;32mfor\u001b[0m \u001b[0mk\u001b[0m\u001b[1;33m,\u001b[0m \u001b[0ms\u001b[0m \u001b[1;32min\u001b[0m \u001b[0mKNN_res\u001b[0m\u001b[1;33m:\u001b[0m\u001b[1;33m\u001b[0m\u001b[1;33m\u001b[0m\u001b[0m\n\u001b[0;32m      4\u001b[0m         \u001b[1;32mif\u001b[0m \u001b[0mi\u001b[0m\u001b[1;33m==\u001b[0m\u001b[0mk\u001b[0m\u001b[1;33m:\u001b[0m\u001b[1;33m\u001b[0m\u001b[1;33m\u001b[0m\u001b[0m\n\u001b[0;32m      5\u001b[0m             \u001b[0mKNN_LOF_res\u001b[0m\u001b[1;33m.\u001b[0m\u001b[0mappend\u001b[0m\u001b[1;33m(\u001b[0m\u001b[1;33m(\u001b[0m\u001b[0mk\u001b[0m\u001b[1;33m,\u001b[0m \u001b[0ms\u001b[0m\u001b[1;33m)\u001b[0m\u001b[1;33m)\u001b[0m\u001b[1;33m\u001b[0m\u001b[1;33m\u001b[0m\u001b[0m\n",
      "\u001b[1;31mNameError\u001b[0m: name 'LOF_res' is not defined"
     ]
    }
   ],
   "source": [
    "KNN_LOF_res = []\n",
    "for i,j in LOF_res:\n",
    "    for k, s in KNN_res:\n",
    "        if i==k:\n",
    "            KNN_LOF_res.append((k, s))"
   ]
  },
  {
   "cell_type": "code",
   "execution_count": null,
   "metadata": {},
   "outputs": [],
   "source": [
    "KNN_LOF_res"
   ]
  },
  {
   "cell_type": "code",
   "execution_count": null,
   "metadata": {},
   "outputs": [],
   "source": [
    "perc =20\n",
    "\n",
    "Y = []\n",
    "for i in range(0,len(X)):\n",
    "    Y.append((X[i],clf.decision_scores_[i] ))\n",
    "\n",
    "def takeSecond(elem):\n",
    "    return elem[1];\n",
    "#Ordino sulla base del LOF factor\n",
    "Z = sorted(Y, key=takeSecond, reverse = True)\n",
    "R = Z[0][0]\n",
    "for i in range(1,perc):\n",
    "    R = np.vstack((R,Z[i][0]));\n",
    "    \n",
    "W = Z[perc+1][0]\n",
    "for i in range(perc+1,len(Z)):\n",
    "    W = np.vstack((W,Z[i][0]));\n",
    "a = plt.scatter(R[:,3],R[:,2], c='red', edgecolor='k', s=30)\n",
    "b = plt.scatter(W[:,3],W[:,2], c='white', edgecolor='k', s=20)\n",
    "plt.ylabel(\"CO2\")\n",
    "plt.xlabel(\"Light\")\n",
    "plt.show()"
   ]
  },
  {
   "cell_type": "code",
   "execution_count": 270,
   "metadata": {},
   "outputs": [
    {
     "data": {
      "text/plain": [
       "[('2015-02-07 09:42:00', 605.4577892640112),\n",
       " ('2015-02-12 09:47:00', 570.51405425283),\n",
       " ('2015-02-07 09:42:59', 560.5516005536152),\n",
       " ('2015-02-04 09:40:59', 518.8959812182878),\n",
       " ('2015-02-04 09:40:00', 490.3584656720532),\n",
       " ('2015-02-04 09:42:00', 426.9079484341421),\n",
       " ('2015-02-12 09:46:00', 404.37998749196316),\n",
       " ('2015-02-18 01:51:00', 292.189688608857),\n",
       " ('2015-02-17 22:56:00', 287.58252516467326),\n",
       " ('2015-02-18 01:49:00', 281.44159004000994)]"
      ]
     },
     "execution_count": 270,
     "metadata": {},
     "output_type": "execute_result"
    }
   ],
   "source": [
    "Z[0:10]"
   ]
  },
  {
   "cell_type": "code",
   "execution_count": 276,
   "metadata": {},
   "outputs": [
    {
     "data": {
      "image/png": "[encoded data removed]",
      "text/plain": [
       "<Figure size 432x288 with 2 Axes>"
      ]
     },
     "metadata": {
      "needs_background": "light"
     },
     "output_type": "display_data"
    }
   ],
   "source": [
    "plt.scatter(X[:, 3], X[:, 2], s=20, c=clf.decision_scores_, cmap='RdYlGn')\n",
    "plt.ylabel(\"CO2\")\n",
    "plt.xlabel(\"Light\")\n",
    "plt.colorbar()\n",
    "plt.show()"
   ]
  },
  {
   "cell_type": "markdown",
   "metadata": {},
   "source": [
    "# DBSCAN"
   ]
  },
  {
   "cell_type": "code",
   "execution_count": 213,
   "metadata": {},
   "outputs": [],
   "source": [
    "#Un'altra possibilità è il dbscan\n",
    "from sklearn.cluster import DBSCAN"
   ]
  },
  {
   "cell_type": "code",
   "execution_count": 214,
   "metadata": {},
   "outputs": [
    {
     "data": {
      "text/plain": [
       "DBSCAN(algorithm='auto', eps=100, leaf_size=30, metric='euclidean',\n",
       "       metric_params=None, min_samples=4, n_jobs=None, p=None)"
      ]
     },
     "execution_count": 214,
     "metadata": {},
     "output_type": "execute_result"
    }
   ],
   "source": [
    "#In questo caso abbiamo fittato l'algoritmo con questi parametri\n",
    "dbscan = DBSCAN(eps=100, min_samples=4)\n",
    "dbscan.fit(X)"
   ]
  },
  {
   "cell_type": "code",
   "execution_count": 215,
   "metadata": {},
   "outputs": [
    {
     "data": {
      "text/plain": [
       "(array([-1,  0,  1], dtype=int64), array([   13, 20543,     4], dtype=int64))"
      ]
     },
     "execution_count": 215,
     "metadata": {},
     "output_type": "execute_result"
    }
   ],
   "source": [
    "np.unique(dbscan.labels_, return_counts=True)\n",
    "#Si focalizza sulla label \"-1\". 3 punti sono identificati come outliers"
   ]
  },
  {
   "cell_type": "code",
   "execution_count": 217,
   "metadata": {
    "scrolled": true
   },
   "outputs": [
    {
     "name": "stdout",
     "output_type": "stream",
     "text": [
      "13\n"
     ]
    },
    {
     "data": {
      "text/html": [
       "<div>\n",
       "<style scoped>\n",
       "    .dataframe tbody tr th:only-of-type {\n",
       "        vertical-align: middle;\n",
       "    }\n",
       "\n",
       "    .dataframe tbody tr th {\n",
       "        vertical-align: top;\n",
       "    }\n",
       "\n",
       "    .dataframe thead th {\n",
       "        text-align: right;\n",
       "    }\n",
       "</style>\n",
       "<table border=\"1\" class=\"dataframe\">\n",
       "  <thead>\n",
       "    <tr style=\"text-align: right;\">\n",
       "      <th></th>\n",
       "      <th>date</th>\n",
       "      <th>Temperature</th>\n",
       "      <th>Humidity</th>\n",
       "      <th>Light</th>\n",
       "      <th>CO2</th>\n",
       "      <th>HumidityRatio</th>\n",
       "      <th>Occupancy</th>\n",
       "    </tr>\n",
       "  </thead>\n",
       "  <tbody>\n",
       "    <tr>\n",
       "      <td>2601</td>\n",
       "      <td>2015-02-04 09:40:00</td>\n",
       "      <td>22.600000</td>\n",
       "      <td>25.472500</td>\n",
       "      <td>1419.500000</td>\n",
       "      <td>945.000000</td>\n",
       "      <td>0.004319</td>\n",
       "      <td>1</td>\n",
       "    </tr>\n",
       "    <tr>\n",
       "      <td>2602</td>\n",
       "      <td>2015-02-04 09:40:59</td>\n",
       "      <td>22.700000</td>\n",
       "      <td>25.500000</td>\n",
       "      <td>1697.250000</td>\n",
       "      <td>951.750000</td>\n",
       "      <td>0.004350</td>\n",
       "      <td>1</td>\n",
       "    </tr>\n",
       "    <tr>\n",
       "      <td>2603</td>\n",
       "      <td>2015-02-04 09:42:00</td>\n",
       "      <td>22.700000</td>\n",
       "      <td>25.456000</td>\n",
       "      <td>1209.800000</td>\n",
       "      <td>958.600000</td>\n",
       "      <td>0.004343</td>\n",
       "      <td>1</td>\n",
       "    </tr>\n",
       "    <tr>\n",
       "      <td>6496</td>\n",
       "      <td>2015-02-07 09:42:00</td>\n",
       "      <td>20.700000</td>\n",
       "      <td>18.890000</td>\n",
       "      <td>1546.333333</td>\n",
       "      <td>455.333333</td>\n",
       "      <td>0.002845</td>\n",
       "      <td>0</td>\n",
       "    </tr>\n",
       "    <tr>\n",
       "      <td>6497</td>\n",
       "      <td>2015-02-07 09:42:59</td>\n",
       "      <td>20.745000</td>\n",
       "      <td>18.890000</td>\n",
       "      <td>1451.750000</td>\n",
       "      <td>453.000000</td>\n",
       "      <td>0.002853</td>\n",
       "      <td>0</td>\n",
       "    </tr>\n",
       "    <tr>\n",
       "      <td>6498</td>\n",
       "      <td>2015-02-07 09:43:59</td>\n",
       "      <td>20.760000</td>\n",
       "      <td>18.856667</td>\n",
       "      <td>829.000000</td>\n",
       "      <td>452.666667</td>\n",
       "      <td>0.002850</td>\n",
       "      <td>0</td>\n",
       "    </tr>\n",
       "    <tr>\n",
       "      <td>9878</td>\n",
       "      <td>2015-02-09 18:04:00</td>\n",
       "      <td>22.100000</td>\n",
       "      <td>37.790000</td>\n",
       "      <td>209.500000</td>\n",
       "      <td>1788.500000</td>\n",
       "      <td>0.006234</td>\n",
       "      <td>1</td>\n",
       "    </tr>\n",
       "    <tr>\n",
       "      <td>11946</td>\n",
       "      <td>2015-02-12 09:46:00</td>\n",
       "      <td>22.772000</td>\n",
       "      <td>25.290000</td>\n",
       "      <td>1380.000000</td>\n",
       "      <td>1202.500000</td>\n",
       "      <td>0.004333</td>\n",
       "      <td>1</td>\n",
       "    </tr>\n",
       "    <tr>\n",
       "      <td>11947</td>\n",
       "      <td>2015-02-12 09:47:00</td>\n",
       "      <td>22.790000</td>\n",
       "      <td>25.290000</td>\n",
       "      <td>1581.000000</td>\n",
       "      <td>1211.500000</td>\n",
       "      <td>0.004338</td>\n",
       "      <td>1</td>\n",
       "    </tr>\n",
       "    <tr>\n",
       "      <td>11948</td>\n",
       "      <td>2015-02-12 09:48:00</td>\n",
       "      <td>22.790000</td>\n",
       "      <td>25.100000</td>\n",
       "      <td>1010.500000</td>\n",
       "      <td>1215.500000</td>\n",
       "      <td>0.004305</td>\n",
       "      <td>1</td>\n",
       "    </tr>\n",
       "    <tr>\n",
       "      <td>13389</td>\n",
       "      <td>2015-02-13 09:49:00</td>\n",
       "      <td>22.500000</td>\n",
       "      <td>24.917500</td>\n",
       "      <td>1021.250000</td>\n",
       "      <td>577.500000</td>\n",
       "      <td>0.004198</td>\n",
       "      <td>1</td>\n",
       "    </tr>\n",
       "    <tr>\n",
       "      <td>19646</td>\n",
       "      <td>2015-02-17 18:06:00</td>\n",
       "      <td>22.166667</td>\n",
       "      <td>34.260000</td>\n",
       "      <td>279.333333</td>\n",
       "      <td>1595.666667</td>\n",
       "      <td>0.005670</td>\n",
       "      <td>0</td>\n",
       "    </tr>\n",
       "    <tr>\n",
       "      <td>20551</td>\n",
       "      <td>2015-02-18 09:10:59</td>\n",
       "      <td>20.790000</td>\n",
       "      <td>27.122500</td>\n",
       "      <td>296.000000</td>\n",
       "      <td>1467.000000</td>\n",
       "      <td>0.004116</td>\n",
       "      <td>1</td>\n",
       "    </tr>\n",
       "  </tbody>\n",
       "</table>\n",
       "</div>"
      ],
      "text/plain": [
       "                      date  Temperature   Humidity        Light          CO2  \\\n",
       "2601   2015-02-04 09:40:00    22.600000  25.472500  1419.500000   945.000000   \n",
       "2602   2015-02-04 09:40:59    22.700000  25.500000  1697.250000   951.750000   \n",
       "2603   2015-02-04 09:42:00    22.700000  25.456000  1209.800000   958.600000   \n",
       "6496   2015-02-07 09:42:00    20.700000  18.890000  1546.333333   455.333333   \n",
       "6497   2015-02-07 09:42:59    20.745000  18.890000  1451.750000   453.000000   \n",
       "6498   2015-02-07 09:43:59    20.760000  18.856667   829.000000   452.666667   \n",
       "9878   2015-02-09 18:04:00    22.100000  37.790000   209.500000  1788.500000   \n",
       "11946  2015-02-12 09:46:00    22.772000  25.290000  1380.000000  1202.500000   \n",
       "11947  2015-02-12 09:47:00    22.790000  25.290000  1581.000000  1211.500000   \n",
       "11948  2015-02-12 09:48:00    22.790000  25.100000  1010.500000  1215.500000   \n",
       "13389  2015-02-13 09:49:00    22.500000  24.917500  1021.250000   577.500000   \n",
       "19646  2015-02-17 18:06:00    22.166667  34.260000   279.333333  1595.666667   \n",
       "20551  2015-02-18 09:10:59    20.790000  27.122500   296.000000  1467.000000   \n",
       "\n",
       "       HumidityRatio  Occupancy  \n",
       "2601        0.004319          1  \n",
       "2602        0.004350          1  \n",
       "2603        0.004343          1  \n",
       "6496        0.002845          0  \n",
       "6497        0.002853          0  \n",
       "6498        0.002850          0  \n",
       "9878        0.006234          1  \n",
       "11946       0.004333          1  \n",
       "11947       0.004338          1  \n",
       "11948       0.004305          1  \n",
       "13389       0.004198          1  \n",
       "19646       0.005670          0  \n",
       "20551       0.004116          1  "
      ]
     },
     "execution_count": 217,
     "metadata": {},
     "output_type": "execute_result"
    }
   ],
   "source": [
    "#E questi sono gli outliers identificati con dbscan\n",
    "out = date_df.loc[np.where(dbscan.labels_==-1)]\n",
    "print(len(out))\n",
    "out"
   ]
  },
  {
   "cell_type": "code",
   "execution_count": null,
   "metadata": {},
   "outputs": [],
   "source": []
  }
 ],
 "metadata": {
  "kernelspec": {
   "display_name": "Python 3",
   "language": "python",
   "name": "python3"
  },
  "language_info": {
   "codemirror_mode": {
    "name": "ipython",
    "version": 3
   },
   "file_extension": ".py",
   "mimetype": "text/x-python",
   "name": "python",
   "nbconvert_exporter": "python",
   "pygments_lexer": "ipython3",
   "version": "3.7.4"
  }
 },
 "nbformat": 4,
 "nbformat_minor": 4
}
